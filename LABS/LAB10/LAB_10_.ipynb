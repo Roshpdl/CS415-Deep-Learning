{
  "nbformat": 4,
  "nbformat_minor": 0,
  "metadata": {
    "colab": {
      "provenance": []
    },
    "kernelspec": {
      "name": "python3",
      "display_name": "Python 3"
    },
    "language_info": {
      "name": "python"
    },
    "accelerator": "GPU",
    "gpuClass": "standard"
  },
  "cells": [
    {
      "cell_type": "markdown",
      "metadata": {
        "id": "NfthdpNTSQeN"
      },
      "source": [
        "# Deep learning for timeseries"
      ]
    },
    {
      "cell_type": "markdown",
      "metadata": {
        "id": "zhTtLY-ISQeN"
      },
      "source": [
        "## A temperature-forecasting example"
      ]
    },
    {
      "cell_type": "code",
      "source": [
        "from tensorflow import keras"
      ],
      "metadata": {
        "id": "DjNGhMWVUKt7"
      },
      "execution_count": 6,
      "outputs": []
    },
    {
      "cell_type": "code",
      "execution_count": 7,
      "metadata": {
        "id": "Z9-Xwtu5SQeO",
        "colab": {
          "base_uri": "https://localhost:8080/"
        },
        "outputId": "c1b2ebf4-6b1d-40ec-828e-641159ad67e4"
      },
      "outputs": [
        {
          "output_type": "stream",
          "name": "stdout",
          "text": [
            "--2023-04-19 21:05:54--  https://s3.amazonaws.com/keras-datasets/jena_climate_2009_2016.csv.zip\n",
            "Resolving s3.amazonaws.com (s3.amazonaws.com)... 52.216.43.120, 3.5.0.120, 54.231.137.176, ...\n",
            "Connecting to s3.amazonaws.com (s3.amazonaws.com)|52.216.43.120|:443... connected.\n",
            "HTTP request sent, awaiting response... 200 OK\n",
            "Length: 13565642 (13M) [application/zip]\n",
            "Saving to: ‘jena_climate_2009_2016.csv.zip.1’\n",
            "\n",
            "jena_climate_2009_2 100%[===================>]  12.94M  13.8MB/s    in 0.9s    \n",
            "\n",
            "2023-04-19 21:05:55 (13.8 MB/s) - ‘jena_climate_2009_2016.csv.zip.1’ saved [13565642/13565642]\n",
            "\n",
            "Archive:  jena_climate_2009_2016.csv.zip\n",
            "replace jena_climate_2009_2016.csv? [y]es, [n]o, [A]ll, [N]one, [r]ename: y\n",
            "  inflating: jena_climate_2009_2016.csv  \n",
            "replace __MACOSX/._jena_climate_2009_2016.csv? [y]es, [n]o, [A]ll, [N]one, [r]ename: y\n",
            "  inflating: __MACOSX/._jena_climate_2009_2016.csv  \n"
          ]
        }
      ],
      "source": [
        "!wget https://s3.amazonaws.com/keras-datasets/jena_climate_2009_2016.csv.zip\n",
        "!unzip jena_climate_2009_2016.csv.zip"
      ]
    },
    {
      "cell_type": "markdown",
      "metadata": {
        "id": "5oOgJ2LuSQeO"
      },
      "source": [
        "**Inspecting the data of the Jena weather dataset**"
      ]
    },
    {
      "cell_type": "code",
      "execution_count": 8,
      "metadata": {
        "id": "uK0QUbCgSQeP",
        "colab": {
          "base_uri": "https://localhost:8080/"
        },
        "outputId": "54cf8b45-6e74-41a2-c8a7-24521b95e074"
      },
      "outputs": [
        {
          "output_type": "stream",
          "name": "stdout",
          "text": [
            "['\"Date Time\"', '\"p (mbar)\"', '\"T (degC)\"', '\"Tpot (K)\"', '\"Tdew (degC)\"', '\"rh (%)\"', '\"VPmax (mbar)\"', '\"VPact (mbar)\"', '\"VPdef (mbar)\"', '\"sh (g/kg)\"', '\"H2OC (mmol/mol)\"', '\"rho (g/m**3)\"', '\"wv (m/s)\"', '\"max. wv (m/s)\"', '\"wd (deg)\"']\n",
            "420451\n"
          ]
        }
      ],
      "source": [
        "import os\n",
        "fname = os.path.join(\"jena_climate_2009_2016.csv\")\n",
        "\n",
        "with open(fname) as f:\n",
        "    data = f.read()\n",
        "\n",
        "lines = data.split(\"\\n\")\n",
        "header = lines[0].split(\",\")\n",
        "lines = lines[1:]\n",
        "print(header)\n",
        "print(len(lines))"
      ]
    },
    {
      "cell_type": "markdown",
      "metadata": {
        "id": "rx9copAtSQeP"
      },
      "source": [
        "**Parsing the data**"
      ]
    },
    {
      "cell_type": "code",
      "execution_count": 9,
      "metadata": {
        "id": "MqP9EIwzSQeP"
      },
      "outputs": [],
      "source": [
        "import numpy as np\n",
        "temperature = np.zeros((len(lines),))\n",
        "raw_data = np.zeros((len(lines), len(header) - 1))\n",
        "for i, line in enumerate(lines):\n",
        "    values = [float(x) for x in line.split(\",\")[1:]]\n",
        "    temperature[i] = values[1]\n",
        "    raw_data[i, :] = values[:]"
      ]
    },
    {
      "cell_type": "markdown",
      "metadata": {
        "id": "pjwpTx0ISQeP"
      },
      "source": [
        "**Plotting the temperature timeseries**"
      ]
    },
    {
      "cell_type": "code",
      "execution_count": 10,
      "metadata": {
        "id": "phX9fSDsSQeQ",
        "colab": {
          "base_uri": "https://localhost:8080/",
          "height": 452
        },
        "outputId": "28292a94-1394-4480-c471-add4ecc3c6c5"
      },
      "outputs": [
        {
          "output_type": "execute_result",
          "data": {
            "text/plain": [
              "[<matplotlib.lines.Line2D at 0x7fa7bf3e9970>]"
            ]
          },
          "metadata": {},
          "execution_count": 10
        },
        {
          "output_type": "display_data",
          "data": {
            "text/plain": [
              "<Figure size 640x480 with 1 Axes>"
            ],
            "image/png": "[encoded data removed]"
          },
          "metadata": {}
        }
      ],
      "source": [
        "from matplotlib import pyplot as plt\n",
        "plt.plot(range(len(temperature)), temperature)"
      ]
    },
    {
      "cell_type": "code",
      "source": [],
      "metadata": {
        "id": "h9NWUcF7VEwa"
      },
      "execution_count": 10,
      "outputs": []
    },
    {
      "cell_type": "markdown",
      "metadata": {
        "id": "XolTtrdeSQeQ"
      },
      "source": [
        "**Plotting the first 10 days of the temperature timeseries**"
      ]
    },
    {
      "cell_type": "code",
      "execution_count": 11,
      "metadata": {
        "id": "lN1j1IiPSQeQ",
        "colab": {
          "base_uri": "https://localhost:8080/",
          "height": 448
        },
        "outputId": "12651955-e1b8-4a90-e0ff-00b93cdb7978"
      },
      "outputs": [
        {
          "output_type": "execute_result",
          "data": {
            "text/plain": [
              "[<matplotlib.lines.Line2D at 0x7fa8545fff70>]"
            ]
          },
          "metadata": {},
          "execution_count": 11
        },
        {
          "output_type": "display_data",
          "data": {
            "text/plain": [
              "<Figure size 640x480 with 1 Axes>"
            ],
            "image/png": "[encoded data removed]"
          },
          "metadata": {}
        }
      ],
      "source": [
        "plt.plot(range(1440), temperature[:1440])"
      ]
    },
    {
      "cell_type": "markdown",
      "metadata": {
        "id": "LReVmp4GSQeQ"
      },
      "source": [
        "**Computing the number of samples we'll use for each data split**"
      ]
    },
    {
      "cell_type": "code",
      "execution_count": 12,
      "metadata": {
        "id": "h-5BdJnLSQeQ",
        "colab": {
          "base_uri": "https://localhost:8080/"
        },
        "outputId": "f80ee11e-af7a-433c-a880-52889b1f89be"
      },
      "outputs": [
        {
          "output_type": "stream",
          "name": "stdout",
          "text": [
            "num_train_samples: 210225\n",
            "num_val_samples: 105112\n",
            "num_test_samples: 105114\n"
          ]
        }
      ],
      "source": [
        "num_train_samples = int(0.5 * len(raw_data))\n",
        "num_val_samples = int(0.25 * len(raw_data))\n",
        "num_test_samples = len(raw_data) - num_train_samples - num_val_samples\n",
        "print(\"num_train_samples:\", num_train_samples)\n",
        "print(\"num_val_samples:\", num_val_samples)\n",
        "print(\"num_test_samples:\", num_test_samples)"
      ]
    },
    {
      "cell_type": "markdown",
      "metadata": {
        "id": "CevplMx3SQeQ"
      },
      "source": [
        "### Preparing the data"
      ]
    },
    {
      "cell_type": "markdown",
      "metadata": {
        "id": "RKnE_ok0SQeQ"
      },
      "source": [
        "**Normalizing the data**"
      ]
    },
    {
      "cell_type": "code",
      "execution_count": 13,
      "metadata": {
        "id": "gQfxhCFUSQeR"
      },
      "outputs": [],
      "source": [
        "mean = raw_data[:num_train_samples].mean(axis=0)\n",
        "raw_data -= mean\n",
        "std = raw_data[:num_train_samples].std(axis=0)\n",
        "raw_data /= std"
      ]
    },
    {
      "cell_type": "code",
      "execution_count": 14,
      "metadata": {
        "id": "qc2Eia9qSQeR",
        "colab": {
          "base_uri": "https://localhost:8080/"
        },
        "outputId": "6eb1e91c-33da-44e8-96cc-327097143f50"
      },
      "outputs": [
        {
          "output_type": "stream",
          "name": "stdout",
          "text": [
            "[0, 1, 2] 3\n",
            "[1, 2, 3] 4\n",
            "[2, 3, 4] 5\n",
            "[3, 4, 5] 6\n",
            "[4, 5, 6] 7\n"
          ]
        }
      ],
      "source": [
        "import numpy as np\n",
        "from tensorflow import keras\n",
        "int_sequence = np.arange(10)\n",
        "dummy_dataset = keras.utils.timeseries_dataset_from_array(\n",
        "    data=int_sequence[:-3],\n",
        "    targets=int_sequence[3:],\n",
        "    sequence_length=3,\n",
        "    batch_size=2,\n",
        ")\n",
        "\n",
        "for inputs, targets in dummy_dataset:\n",
        "    for i in range(inputs.shape[0]):\n",
        "        print([int(x) for x in inputs[i]], int(targets[i]))"
      ]
    },
    {
      "cell_type": "markdown",
      "metadata": {
        "id": "DCNpVQ53SQeR"
      },
      "source": [
        "**Instantiating datasets for training, validation, and testing**"
      ]
    },
    {
      "cell_type": "code",
      "execution_count": 15,
      "metadata": {
        "id": "289LjpKFSQeR"
      },
      "outputs": [],
      "source": [
        "sampling_rate = 6\n",
        "sequence_length = 120\n",
        "delay = sampling_rate * (sequence_length + 24 - 1)\n",
        "batch_size = 256 \n",
        "\n",
        "train_dataset = keras.utils.timeseries_dataset_from_array(\n",
        "    raw_data[:-delay],\n",
        "    targets=temperature[delay:],\n",
        "    sampling_rate=sampling_rate,\n",
        "    sequence_length=sequence_length,\n",
        "    shuffle=True,\n",
        "    batch_size=batch_size,\n",
        "    start_index=0,\n",
        "    end_index=num_train_samples)\n",
        "\n",
        "val_dataset = keras.utils.timeseries_dataset_from_array(\n",
        "    raw_data[:-delay],\n",
        "    targets=temperature[delay:],\n",
        "    sampling_rate=sampling_rate,\n",
        "    sequence_length=sequence_length,\n",
        "    shuffle=True,\n",
        "    batch_size=batch_size,\n",
        "    start_index=num_train_samples,\n",
        "    end_index=num_train_samples + num_val_samples)\n",
        "\n",
        "test_dataset = keras.utils.timeseries_dataset_from_array(\n",
        "    raw_data[:-delay],\n",
        "    targets=temperature[delay:],\n",
        "    sampling_rate=sampling_rate,\n",
        "    sequence_length=sequence_length,\n",
        "    shuffle=True,\n",
        "    batch_size=batch_size,\n",
        "    start_index=num_train_samples + num_val_samples)"
      ]
    },
    {
      "cell_type": "markdown",
      "metadata": {
        "id": "H9VdKiEtSQeR"
      },
      "source": [
        "**Inspecting the output of one of our datasets**"
      ]
    },
    {
      "cell_type": "code",
      "execution_count": 16,
      "metadata": {
        "id": "Amf0ljjgSQeS",
        "colab": {
          "base_uri": "https://localhost:8080/"
        },
        "outputId": "e82dcddd-906d-410e-9cfe-22391c1f4ce9"
      },
      "outputs": [
        {
          "output_type": "stream",
          "name": "stdout",
          "text": [
            "samples shape: (256, 120, 14)\n",
            "targets shape: (256,)\n"
          ]
        }
      ],
      "source": [
        "for samples, targets in train_dataset:\n",
        "    print(\"samples shape:\", samples.shape)\n",
        "    print(\"targets shape:\", targets.shape)\n",
        "    break"
      ]
    },
    {
      "cell_type": "markdown",
      "metadata": {
        "id": "u2qfqc1aSQeS"
      },
      "source": [
        "### A common-sense, non-machine-learning baseline"
      ]
    },
    {
      "cell_type": "markdown",
      "metadata": {
        "id": "lWMJaF9ESQeS"
      },
      "source": [
        "**Computing the common-sense baseline MAE**"
      ]
    },
    {
      "cell_type": "code",
      "execution_count": 17,
      "metadata": {
        "id": "Iduoi67BSQeS",
        "colab": {
          "base_uri": "https://localhost:8080/"
        },
        "outputId": "87d4cdae-a7d3-4db5-af98-a99097ab5ea5"
      },
      "outputs": [
        {
          "output_type": "stream",
          "name": "stdout",
          "text": [
            "Validation MAE: 2.44\n",
            "Test MAE: 2.62\n"
          ]
        }
      ],
      "source": [
        "def evaluate_naive_method(dataset):\n",
        "    total_abs_err = 0.\n",
        "    samples_seen = 0\n",
        "    for samples, targets in dataset:\n",
        "        preds = samples[:, -1, 1] * std[1] + mean[1]\n",
        "        total_abs_err += np.sum(np.abs(preds - targets))\n",
        "        samples_seen += samples.shape[0]\n",
        "    return total_abs_err / samples_seen\n",
        "\n",
        "print(f\"Validation MAE: {evaluate_naive_method(val_dataset):.2f}\")\n",
        "print(f\"Test MAE: {evaluate_naive_method(test_dataset):.2f}\")"
      ]
    },
    {
      "cell_type": "markdown",
      "metadata": {
        "id": "6_fCDNi_SQeS"
      },
      "source": [
        "### Let's try a basic machine-learning model"
      ]
    },
    {
      "cell_type": "markdown",
      "metadata": {
        "id": "uwS5mWnGSQeS"
      },
      "source": [
        "**Training and evaluating a densely connected model**"
      ]
    },
    {
      "cell_type": "code",
      "execution_count": 18,
      "metadata": {
        "id": "zNaVx0vmSQeS",
        "colab": {
          "base_uri": "https://localhost:8080/"
        },
        "outputId": "acf4be75-d533-46c6-efb4-a2760e280914"
      },
      "outputs": [
        {
          "output_type": "stream",
          "name": "stdout",
          "text": [
            "Epoch 1/10\n",
            "819/819 [==============================] - 47s 51ms/step - loss: 12.1851 - mae: 2.6967 - val_loss: 11.0382 - val_mae: 2.6185\n",
            "Epoch 2/10\n",
            "819/819 [==============================] - 43s 52ms/step - loss: 8.8171 - mae: 2.3280 - val_loss: 10.9303 - val_mae: 2.6121\n",
            "Epoch 3/10\n",
            "819/819 [==============================] - 50s 61ms/step - loss: 8.0684 - mae: 2.2349 - val_loss: 10.4984 - val_mae: 2.5515\n",
            "Epoch 4/10\n",
            "819/819 [==============================] - 44s 53ms/step - loss: 7.5571 - mae: 2.1655 - val_loss: 10.8642 - val_mae: 2.5853\n",
            "Epoch 5/10\n",
            "819/819 [==============================] - 42s 51ms/step - loss: 7.2146 - mae: 2.1168 - val_loss: 11.2038 - val_mae: 2.6422\n",
            "Epoch 6/10\n",
            "819/819 [==============================] - 41s 50ms/step - loss: 6.9993 - mae: 2.0849 - val_loss: 10.9116 - val_mae: 2.5956\n",
            "Epoch 7/10\n",
            "819/819 [==============================] - 41s 50ms/step - loss: 6.8384 - mae: 2.0612 - val_loss: 12.6309 - val_mae: 2.8158\n",
            "Epoch 8/10\n",
            "819/819 [==============================] - 41s 50ms/step - loss: 6.6718 - mae: 2.0369 - val_loss: 11.6336 - val_mae: 2.6893\n",
            "Epoch 9/10\n",
            "819/819 [==============================] - 41s 50ms/step - loss: 6.5693 - mae: 2.0204 - val_loss: 11.1486 - val_mae: 2.6266\n",
            "Epoch 10/10\n",
            "819/819 [==============================] - 49s 60ms/step - loss: 6.4431 - mae: 2.0035 - val_loss: 11.4363 - val_mae: 2.6592\n",
            "405/405 [==============================] - 14s 33ms/step - loss: 11.5051 - mae: 2.6664\n",
            "Test MAE: 2.67\n"
          ]
        }
      ],
      "source": [
        "from tensorflow import keras\n",
        "from tensorflow.keras import layers\n",
        "\n",
        "inputs = keras.Input(shape=(sequence_length, raw_data.shape[-1]))\n",
        "x = layers.Flatten()(inputs)\n",
        "x = layers.Dense(16, activation=\"relu\")(x)\n",
        "outputs = layers.Dense(1)(x)\n",
        "model = keras.Model(inputs, outputs)\n",
        "\n",
        "callbacks = [\n",
        "    keras.callbacks.ModelCheckpoint(\"jena_dense.keras\",\n",
        "                                    save_best_only=True)\n",
        "]\n",
        "model.compile(optimizer=\"rmsprop\", loss=\"mse\", metrics=[\"mae\"])\n",
        "history = model.fit(train_dataset,\n",
        "                    epochs=10,\n",
        "                    validation_data=val_dataset,\n",
        "                    callbacks=callbacks)\n",
        "\n",
        "model = keras.models.load_model(\"jena_dense.keras\")\n",
        "print(f\"Test MAE: {model.evaluate(test_dataset)[1]:.2f}\")"
      ]
    },
    {
      "cell_type": "markdown",
      "metadata": {
        "id": "93NurgpYSQeS"
      },
      "source": [
        "**Plotting results**"
      ]
    },
    {
      "cell_type": "code",
      "execution_count": 19,
      "metadata": {
        "id": "Oob-gd4ISQeS",
        "colab": {
          "base_uri": "https://localhost:8080/",
          "height": 452
        },
        "outputId": "768b1e5c-6b29-4e8c-b2fd-50675fc4c5f9"
      },
      "outputs": [
        {
          "output_type": "display_data",
          "data": {
            "text/plain": [
              "<Figure size 640x480 with 1 Axes>"
            ],
            "image/png": "[encoded data removed]"
          },
          "metadata": {}
        }
      ],
      "source": [
        "import matplotlib.pyplot as plt\n",
        "loss = history.history[\"mae\"]\n",
        "val_loss = history.history[\"val_mae\"]\n",
        "epochs = range(1, len(loss) + 1)\n",
        "plt.figure()\n",
        "plt.plot(epochs, loss, \"bo\", label=\"Training MAE\")\n",
        "plt.plot(epochs, val_loss, \"b\", label=\"Validation MAE\")\n",
        "plt.title(\"Training and validation MAE\")\n",
        "plt.legend()\n",
        "plt.show()"
      ]
    },
    {
      "cell_type": "markdown",
      "metadata": {
        "id": "C-lSz1_ySQeT"
      },
      "source": [
        "### Let's try a 1D convolutional model"
      ]
    },
    {
      "cell_type": "code",
      "execution_count": 20,
      "metadata": {
        "id": "M_pSAat1SQeT",
        "colab": {
          "base_uri": "https://localhost:8080/"
        },
        "outputId": "4d68b843-e8a5-4cbe-fdac-d067146e2eff"
      },
      "outputs": [
        {
          "output_type": "stream",
          "name": "stdout",
          "text": [
            "Epoch 1/10\n",
            "819/819 [==============================] - 50s 52ms/step - loss: 24.0157 - mae: 3.8352 - val_loss: 16.7823 - val_mae: 3.1950\n",
            "Epoch 2/10\n",
            "819/819 [==============================] - 42s 51ms/step - loss: 16.0996 - mae: 3.1737 - val_loss: 14.9803 - val_mae: 3.0327\n",
            "Epoch 3/10\n",
            "819/819 [==============================] - 43s 52ms/step - loss: 14.0442 - mae: 2.9603 - val_loss: 17.1244 - val_mae: 3.2994\n",
            "Epoch 4/10\n",
            "819/819 [==============================] - 42s 51ms/step - loss: 12.9221 - mae: 2.8399 - val_loss: 13.7665 - val_mae: 2.8938\n",
            "Epoch 5/10\n",
            "819/819 [==============================] - 51s 61ms/step - loss: 12.2806 - mae: 2.7678 - val_loss: 14.1320 - val_mae: 2.9248\n",
            "Epoch 6/10\n",
            "819/819 [==============================] - 42s 52ms/step - loss: 11.7550 - mae: 2.7059 - val_loss: 15.3292 - val_mae: 3.0660\n",
            "Epoch 7/10\n",
            "819/819 [==============================] - 44s 53ms/step - loss: 11.3436 - mae: 2.6583 - val_loss: 15.8468 - val_mae: 3.1629\n",
            "Epoch 8/10\n",
            "819/819 [==============================] - 43s 52ms/step - loss: 11.0141 - mae: 2.6213 - val_loss: 14.1715 - val_mae: 2.9489\n",
            "Epoch 9/10\n",
            "819/819 [==============================] - 43s 52ms/step - loss: 10.7078 - mae: 2.5846 - val_loss: 15.1075 - val_mae: 3.0722\n",
            "Epoch 10/10\n",
            "819/819 [==============================] - 42s 51ms/step - loss: 10.4733 - mae: 2.5567 - val_loss: 14.8970 - val_mae: 3.0093\n",
            "405/405 [==============================] - 14s 34ms/step - loss: 14.7545 - mae: 3.0210\n",
            "Test MAE: 3.02\n"
          ]
        }
      ],
      "source": [
        "inputs = keras.Input(shape=(sequence_length, raw_data.shape[-1]))\n",
        "x = layers.Conv1D(8, 24, activation=\"relu\")(inputs)\n",
        "x = layers.MaxPooling1D(2)(x)\n",
        "x = layers.Conv1D(8, 12, activation=\"relu\")(x)\n",
        "x = layers.MaxPooling1D(2)(x)\n",
        "x = layers.Conv1D(8, 6, activation=\"relu\")(x)\n",
        "x = layers.GlobalAveragePooling1D()(x)\n",
        "outputs = layers.Dense(1)(x)\n",
        "model = keras.Model(inputs, outputs)\n",
        "\n",
        "callbacks = [\n",
        "    keras.callbacks.ModelCheckpoint(\"jena_conv.keras\",\n",
        "                                    save_best_only=True)\n",
        "]\n",
        "model.compile(optimizer=\"rmsprop\", loss=\"mse\", metrics=[\"mae\"])\n",
        "history = model.fit(train_dataset,\n",
        "                    epochs=10,\n",
        "                    validation_data=val_dataset,\n",
        "                    callbacks=callbacks)\n",
        "\n",
        "model = keras.models.load_model(\"jena_conv.keras\")\n",
        "print(f\"Test MAE: {model.evaluate(test_dataset)[1]:.2f}\")"
      ]
    },
    {
      "cell_type": "markdown",
      "metadata": {
        "id": "ALZ7NMH2SQeT"
      },
      "source": [
        "### A first recurrent baseline"
      ]
    },
    {
      "cell_type": "markdown",
      "metadata": {
        "id": "fqBa4xp_SQeT"
      },
      "source": [
        "**A simple LSTM-based model**"
      ]
    },
    {
      "cell_type": "code",
      "execution_count": 21,
      "metadata": {
        "id": "hJEfUTupSQeT",
        "colab": {
          "base_uri": "https://localhost:8080/"
        },
        "outputId": "8890649b-70c1-488b-9454-4d7fad582829"
      },
      "outputs": [
        {
          "output_type": "stream",
          "name": "stdout",
          "text": [
            "Epoch 1/10\n",
            "819/819 [==============================] - 49s 56ms/step - loss: 41.7430 - mae: 4.6942 - val_loss: 12.7600 - val_mae: 2.7229\n",
            "Epoch 2/10\n",
            "819/819 [==============================] - 44s 54ms/step - loss: 10.9477 - mae: 2.5732 - val_loss: 10.2090 - val_mae: 2.5017\n",
            "Epoch 3/10\n",
            "819/819 [==============================] - 45s 55ms/step - loss: 10.0440 - mae: 2.4750 - val_loss: 9.9886 - val_mae: 2.4696\n",
            "Epoch 4/10\n",
            "819/819 [==============================] - 45s 55ms/step - loss: 9.5458 - mae: 2.4094 - val_loss: 10.0213 - val_mae: 2.4689\n",
            "Epoch 5/10\n",
            "819/819 [==============================] - 45s 54ms/step - loss: 9.2557 - mae: 2.3673 - val_loss: 9.9628 - val_mae: 2.4666\n",
            "Epoch 6/10\n",
            "819/819 [==============================] - 45s 55ms/step - loss: 8.9867 - mae: 2.3302 - val_loss: 9.9981 - val_mae: 2.4688\n",
            "Epoch 7/10\n",
            "819/819 [==============================] - 46s 56ms/step - loss: 8.8305 - mae: 2.3065 - val_loss: 9.9439 - val_mae: 2.4640\n",
            "Epoch 8/10\n",
            "819/819 [==============================] - 46s 56ms/step - loss: 8.6583 - mae: 2.2820 - val_loss: 9.8320 - val_mae: 2.4519\n",
            "Epoch 9/10\n",
            "819/819 [==============================] - 45s 55ms/step - loss: 8.4912 - mae: 2.2610 - val_loss: 9.8009 - val_mae: 2.4511\n",
            "Epoch 10/10\n",
            "819/819 [==============================] - 46s 55ms/step - loss: 8.3675 - mae: 2.2441 - val_loss: 9.8148 - val_mae: 2.4530\n",
            "405/405 [==============================] - 16s 36ms/step - loss: 11.4948 - mae: 2.6512\n",
            "Test MAE: 2.65\n"
          ]
        }
      ],
      "source": [
        "inputs = keras.Input(shape=(sequence_length, raw_data.shape[-1]))\n",
        "x = layers.LSTM(16)(inputs)\n",
        "outputs = layers.Dense(1)(x)\n",
        "model = keras.Model(inputs, outputs)\n",
        "\n",
        "callbacks = [\n",
        "    keras.callbacks.ModelCheckpoint(\"jena_lstm.keras\",\n",
        "                                    save_best_only=True)\n",
        "]\n",
        "model.compile(optimizer=\"rmsprop\", loss=\"mse\", metrics=[\"mae\"])\n",
        "history = model.fit(train_dataset,\n",
        "                    epochs=10,\n",
        "                    validation_data=val_dataset,\n",
        "                    callbacks=callbacks)\n",
        "\n",
        "model = keras.models.load_model(\"jena_lstm.keras\")\n",
        "print(f\"Test MAE: {model.evaluate(test_dataset)[1]:.2f}\")"
      ]
    },
    {
      "cell_type": "code",
      "source": [
        "import matplotlib.pyplot as plt\n",
        "loss = history.history[\"mae\"]\n",
        "val_loss = history.history[\"val_mae\"]\n",
        "epochs = range(1, len(loss) + 1)\n",
        "plt.figure()\n",
        "plt.plot(epochs, loss, \"bo\", label=\"Training MAE\")\n",
        "plt.plot(epochs, val_loss, \"b\", label=\"Validation MAE\")\n",
        "plt.title(\"Training and validation MAE\")\n",
        "plt.legend()\n",
        "plt.show()"
      ],
      "metadata": {
        "colab": {
          "base_uri": "https://localhost:8080/",
          "height": 452
        },
        "id": "EDeFpp3Qr-A_",
        "outputId": "48e14f16-0b19-412c-848e-10feb0fdfa4d"
      },
      "execution_count": 22,
      "outputs": [
        {
          "output_type": "display_data",
          "data": {
            "text/plain": [
              "<Figure size 640x480 with 1 Axes>"
            ],
            "image/png": "[encoded data removed]"
          },
          "metadata": {}
        }
      ]
    },
    {
      "cell_type": "markdown",
      "source": [
        "|Comparison|Dense Layer| CNN| RNN|\n",
        "|:----:|:----:|:----:|:----:|\n",
        "|Accuracy (Test mae)|2.67|3.02|2.65"
      ],
      "metadata": {
        "id": "saK_bXqEsJD4"
      }
    },
    {
      "cell_type": "code",
      "source": [],
      "metadata": {
        "id": "4nE_lULSsXNz"
      },
      "execution_count": null,
      "outputs": []
    }
  ]
}