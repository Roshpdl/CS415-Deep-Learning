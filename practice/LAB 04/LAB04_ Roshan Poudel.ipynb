{
 "cells": [
  {
   "cell_type": "markdown",
   "id": "abc8f859",
   "metadata": {},
   "source": [
    "## Roshan Poudel - LAB04\n",
    "\n",
    "**Multiclass Classification example, Single-label**"
   ]
  },
  {
   "cell_type": "code",
   "execution_count": 1,
   "id": "d90fec79",
   "metadata": {},
   "outputs": [
    {
     "name": "stderr",
     "output_type": "stream",
     "text": [
      "2023-02-13 16:40:07.481757: I tensorflow/core/platform/cpu_feature_guard.cc:193] This TensorFlow binary is optimized with oneAPI Deep Neural Network Library (oneDNN) to use the following CPU instructions in performance-critical operations:  SSE4.1 SSE4.2 AVX AVX2 FMA\n",
      "To enable them in other operations, rebuild TensorFlow with the appropriate compiler flags.\n"
     ]
    }
   ],
   "source": [
    "from tensorflow.keras.datasets import reuters\n",
    "(train_data, train_labels), (test_data, test_labels) = reuters.load_data(num_words=10000)"
   ]
  },
  {
   "cell_type": "code",
   "execution_count": 25,
   "id": "9df02aba",
   "metadata": {},
   "outputs": [
    {
     "data": {
      "text/plain": [
       "(8982,)"
      ]
     },
     "execution_count": 25,
     "metadata": {},
     "output_type": "execute_result"
    }
   ],
   "source": [
    "train_data.shape"
   ]
  },
  {
   "cell_type": "code",
   "execution_count": 2,
   "id": "8f5c6185",
   "metadata": {},
   "outputs": [
    {
     "data": {
      "text/plain": [
       "8982"
      ]
     },
     "execution_count": 2,
     "metadata": {},
     "output_type": "execute_result"
    }
   ],
   "source": [
    "len(train_data)"
   ]
  },
  {
   "cell_type": "code",
   "execution_count": 3,
   "id": "436bc407",
   "metadata": {},
   "outputs": [
    {
     "data": {
      "text/plain": [
       "2246"
      ]
     },
     "execution_count": 3,
     "metadata": {},
     "output_type": "execute_result"
    }
   ],
   "source": [
    "len(test_data)"
   ]
  },
  {
   "cell_type": "code",
   "execution_count": 4,
   "id": "1fe85291",
   "metadata": {},
   "outputs": [
    {
     "data": {
      "text/plain": [
       "[1,\n",
       " 245,\n",
       " 273,\n",
       " 207,\n",
       " 156,\n",
       " 53,\n",
       " 74,\n",
       " 160,\n",
       " 26,\n",
       " 14,\n",
       " 46,\n",
       " 296,\n",
       " 26,\n",
       " 39,\n",
       " 74,\n",
       " 2979,\n",
       " 3554,\n",
       " 14,\n",
       " 46,\n",
       " 4689,\n",
       " 4329,\n",
       " 86,\n",
       " 61,\n",
       " 3499,\n",
       " 4795,\n",
       " 14,\n",
       " 61,\n",
       " 451,\n",
       " 4329,\n",
       " 17,\n",
       " 12]"
      ]
     },
     "execution_count": 4,
     "metadata": {},
     "output_type": "execute_result"
    }
   ],
   "source": [
    "train_data[10]"
   ]
  },
  {
   "cell_type": "code",
   "execution_count": 5,
   "id": "aa63408d",
   "metadata": {},
   "outputs": [],
   "source": [
    "#Decoding newswires back to text\n",
    "\n",
    "word_index = reuters.get_word_index()\n",
    "reverse_word_index = dict([(value, key) for (key, value) in word_index.items()])\n",
    "decoded_newswire = \" \".join([reverse_word_index.get(i - 3, \"?\") for i in train_data[0]])\n",
    "\n",
    "#Note that the indices are offset by 3 because 0, 1, and 2 are reserved\n",
    "#indices for “padding,” “start of sequence,” and “unknown.”"
   ]
  },
  {
   "cell_type": "code",
   "execution_count": 6,
   "id": "e628a2a4",
   "metadata": {},
   "outputs": [],
   "source": [
    "#vectorizing the sequences using multi-hot encoding\n",
    "\n",
    "import numpy as np\n",
    "def vectorize_sequences(sequences, dimension=10000):\n",
    "    results = np.zeros((len(sequences), dimension))\n",
    "    for i, sequence in enumerate(sequences): \n",
    "        for j in sequence:\n",
    "            results[i, j] = 1\n",
    "    return results\n",
    "x_train = vectorize_sequences(train_data)\n",
    "x_test = vectorize_sequences(test_data)"
   ]
  },
  {
   "cell_type": "code",
   "execution_count": 7,
   "id": "f421a52d",
   "metadata": {},
   "outputs": [],
   "source": [
    "#vectorizing the sequences using one-hot encoding\n",
    "\n",
    "def to_one_hot(labels, dimension=46):\n",
    "    results = np.zeros((len(labels), dimension))\n",
    "    for i, label in enumerate(labels):\n",
    "        results[i, label] = 1.\n",
    "    return results\n",
    "y_train = to_one_hot(train_labels)\n",
    "y_test = to_one_hot(test_labels)"
   ]
  },
  {
   "cell_type": "markdown",
   "id": "b027c13f",
   "metadata": {},
   "source": [
    "> The built in way to do one-hot encoding using keras\n",
    "\n",
    ">>```py\n",
    "from tensorflow.keras.utils import to_categorical\n",
    "y_train = to_categorical(train_labels)\n",
    "y_test = to_categorical(test_labels)\n",
    "```"
   ]
  },
  {
   "cell_type": "markdown",
   "id": "71e1972a",
   "metadata": {},
   "source": [
    "## Building the model"
   ]
  },
  {
   "cell_type": "code",
   "execution_count": 8,
   "id": "681f1904",
   "metadata": {},
   "outputs": [
    {
     "name": "stderr",
     "output_type": "stream",
     "text": [
      "2023-02-13 16:40:17.798984: I tensorflow/core/platform/cpu_feature_guard.cc:193] This TensorFlow binary is optimized with oneAPI Deep Neural Network Library (oneDNN) to use the following CPU instructions in performance-critical operations:  SSE4.1 SSE4.2 AVX AVX2 FMA\n",
      "To enable them in other operations, rebuild TensorFlow with the appropriate compiler flags.\n",
      "2023-02-13 16:40:17.800177: I tensorflow/core/common_runtime/process_util.cc:146] Creating new thread pool with default inter op setting: 2. Tune using inter_op_parallelism_threads for best performance.\n"
     ]
    }
   ],
   "source": [
    "from tensorflow import keras\n",
    "from tensorflow.keras import layers\n",
    "model = keras.Sequential([\n",
    " layers.Dense(64, activation=\"relu\"),\n",
    " layers.Dense(64, activation=\"relu\"),\n",
    " layers.Dense(46, activation=\"softmax\")\n",
    "])"
   ]
  },
  {
   "cell_type": "code",
   "execution_count": 9,
   "id": "dd7d3a23",
   "metadata": {},
   "outputs": [],
   "source": [
    "model.compile(optimizer=\"rmsprop\",\n",
    " loss=\"categorical_crossentropy\",\n",
    " metrics=[\"accuracy\"])"
   ]
  },
  {
   "cell_type": "code",
   "execution_count": 10,
   "id": "828bd268",
   "metadata": {},
   "outputs": [],
   "source": [
    "#set apart 1,000 samples in the training data to use as a validation set\n",
    "\n",
    "x_val = x_train[:1000]\n",
    "partial_x_train = x_train[1000:]\n",
    "y_val = y_train[:1000]\n",
    "partial_y_train = y_train[1000:]"
   ]
  },
  {
   "cell_type": "code",
   "execution_count": 11,
   "id": "f9896e86",
   "metadata": {},
   "outputs": [
    {
     "name": "stdout",
     "output_type": "stream",
     "text": [
      "Epoch 1/20\n",
      "16/16 [==============================] - 1s 53ms/step - loss: 2.6146 - accuracy: 0.5222 - val_loss: 1.7135 - val_accuracy: 0.6380\n",
      "Epoch 2/20\n",
      "16/16 [==============================] - 1s 33ms/step - loss: 1.4012 - accuracy: 0.7086 - val_loss: 1.2723 - val_accuracy: 0.7140\n",
      "Epoch 3/20\n",
      "16/16 [==============================] - 1s 48ms/step - loss: 1.0232 - accuracy: 0.7834 - val_loss: 1.1212 - val_accuracy: 0.7510\n",
      "Epoch 4/20\n",
      "16/16 [==============================] - 1s 34ms/step - loss: 0.8019 - accuracy: 0.8277 - val_loss: 1.0054 - val_accuracy: 0.7850\n",
      "Epoch 5/20\n",
      "16/16 [==============================] - 1s 40ms/step - loss: 0.6350 - accuracy: 0.8636 - val_loss: 0.9453 - val_accuracy: 0.7890\n",
      "Epoch 6/20\n",
      "16/16 [==============================] - 1s 38ms/step - loss: 0.5090 - accuracy: 0.8929 - val_loss: 0.9216 - val_accuracy: 0.8110\n",
      "Epoch 7/20\n",
      "16/16 [==============================] - 1s 37ms/step - loss: 0.4121 - accuracy: 0.9123 - val_loss: 0.8932 - val_accuracy: 0.8200\n",
      "Epoch 8/20\n",
      "16/16 [==============================] - 1s 38ms/step - loss: 0.3344 - accuracy: 0.9290 - val_loss: 0.9142 - val_accuracy: 0.8070\n",
      "Epoch 9/20\n",
      "16/16 [==============================] - 1s 32ms/step - loss: 0.2797 - accuracy: 0.9387 - val_loss: 0.9031 - val_accuracy: 0.8070\n",
      "Epoch 10/20\n",
      "16/16 [==============================] - 1s 42ms/step - loss: 0.2351 - accuracy: 0.9451 - val_loss: 0.9116 - val_accuracy: 0.8110\n",
      "Epoch 11/20\n",
      "16/16 [==============================] - 1s 33ms/step - loss: 0.2039 - accuracy: 0.9489 - val_loss: 0.9177 - val_accuracy: 0.8170\n",
      "Epoch 12/20\n",
      "16/16 [==============================] - 1s 33ms/step - loss: 0.1819 - accuracy: 0.9513 - val_loss: 0.9948 - val_accuracy: 0.8030\n",
      "Epoch 13/20\n",
      "16/16 [==============================] - 1s 37ms/step - loss: 0.1629 - accuracy: 0.9524 - val_loss: 0.9376 - val_accuracy: 0.8120\n",
      "Epoch 14/20\n",
      "16/16 [==============================] - 1s 34ms/step - loss: 0.1475 - accuracy: 0.9544 - val_loss: 0.9762 - val_accuracy: 0.8030\n",
      "Epoch 15/20\n",
      "16/16 [==============================] - 1s 40ms/step - loss: 0.1392 - accuracy: 0.9557 - val_loss: 0.9615 - val_accuracy: 0.8150\n",
      "Epoch 16/20\n",
      "16/16 [==============================] - 1s 36ms/step - loss: 0.1268 - accuracy: 0.9564 - val_loss: 0.9957 - val_accuracy: 0.8090\n",
      "Epoch 17/20\n",
      "16/16 [==============================] - 1s 40ms/step - loss: 0.1223 - accuracy: 0.9559 - val_loss: 1.0095 - val_accuracy: 0.8050\n",
      "Epoch 18/20\n",
      "16/16 [==============================] - 1s 40ms/step - loss: 0.1227 - accuracy: 0.9562 - val_loss: 1.0836 - val_accuracy: 0.8070\n",
      "Epoch 19/20\n",
      "16/16 [==============================] - 1s 38ms/step - loss: 0.1121 - accuracy: 0.9567 - val_loss: 1.0698 - val_accuracy: 0.7970\n",
      "Epoch 20/20\n",
      "16/16 [==============================] - 1s 39ms/step - loss: 0.1106 - accuracy: 0.9579 - val_loss: 1.0899 - val_accuracy: 0.7970\n"
     ]
    }
   ],
   "source": [
    "history = model.fit(partial_x_train, partial_y_train, epochs=20, batch_size=512, validation_data=(x_val, y_val))"
   ]
  },
  {
   "cell_type": "code",
   "execution_count": 12,
   "id": "18e6471f",
   "metadata": {},
   "outputs": [
    {
     "data": {
      "image/png": "[encoded data removed]",
      "text/plain": [
       "<Figure size 640x480 with 1 Axes>"
      ]
     },
     "metadata": {},
     "output_type": "display_data"
    }
   ],
   "source": [
    "#Plotting the training and validation loss\n",
    "import matplotlib.pyplot as plt\n",
    "\n",
    "loss = history.history[\"loss\"]\n",
    "val_loss = history.history[\"val_loss\"]\n",
    "epochs = range(1, len(loss) + 1)\n",
    "plt.plot(epochs, loss, \"bo\", label=\"Training loss\")\n",
    "plt.plot(epochs, val_loss, \"b\", label=\"Validation loss\")\n",
    "plt.title(\"Training and validation loss\")\n",
    "plt.xlabel(\"Epochs\")\n",
    "plt.ylabel(\"Loss\")\n",
    "plt.legend()\n",
    "plt.show()"
   ]
  },
  {
   "cell_type": "code",
   "execution_count": 13,
   "id": "ef104e58",
   "metadata": {},
   "outputs": [
    {
     "data": {
      "image/png": "[encoded data removed]",
      "text/plain": [
       "<Figure size 640x480 with 1 Axes>"
      ]
     },
     "metadata": {},
     "output_type": "display_data"
    }
   ],
   "source": [
    "#Plotting the training and validation accuracy\n",
    "\n",
    "plt.clf()\n",
    "acc = history.history[\"accuracy\"]\n",
    "val_acc = history.history[\"val_accuracy\"]\n",
    "plt.plot(epochs, acc, \"bo\", label=\"Training accuracy\")\n",
    "plt.plot(epochs, val_acc, \"b\", label=\"Validation accuracy\")\n",
    "plt.title(\"Training and validation accuracy\")\n",
    "plt.xlabel(\"Epochs\")\n",
    "plt.ylabel(\"Accuracy\")\n",
    "plt.legend()\n",
    "plt.show()"
   ]
  },
  {
   "cell_type": "code",
   "execution_count": 14,
   "id": "56ea70d0",
   "metadata": {},
   "outputs": [
    {
     "name": "stdout",
     "output_type": "stream",
     "text": [
      "Epoch 1/9\n",
      "18/18 [==============================] - 1s 22ms/step - loss: 2.4729 - accuracy: 0.5480\n",
      "Epoch 2/9\n",
      "18/18 [==============================] - 1s 32ms/step - loss: 1.3077 - accuracy: 0.7253\n",
      "Epoch 3/9\n",
      "18/18 [==============================] - 1s 31ms/step - loss: 0.9762 - accuracy: 0.7898\n",
      "Epoch 4/9\n",
      "18/18 [==============================] - 1s 30ms/step - loss: 0.7637 - accuracy: 0.8392\n",
      "Epoch 5/9\n",
      "18/18 [==============================] - 0s 24ms/step - loss: 0.6042 - accuracy: 0.8747\n",
      "Epoch 6/9\n",
      "18/18 [==============================] - 1s 34ms/step - loss: 0.4774 - accuracy: 0.9002\n",
      "Epoch 7/9\n",
      "18/18 [==============================] - 0s 28ms/step - loss: 0.3848 - accuracy: 0.9175\n",
      "Epoch 8/9\n",
      "18/18 [==============================] - 1s 29ms/step - loss: 0.3142 - accuracy: 0.9316\n",
      "Epoch 9/9\n",
      "18/18 [==============================] - 0s 25ms/step - loss: 0.2655 - accuracy: 0.9394\n",
      "71/71 [==============================] - 2s 31ms/step - loss: 0.9475 - accuracy: 0.7952\n"
     ]
    }
   ],
   "source": [
    "model = keras.Sequential([\n",
    " layers.Dense(64, activation=\"relu\"),\n",
    " layers.Dense(64, activation=\"relu\"),\n",
    " layers.Dense(46, activation=\"softmax\")\n",
    "])\n",
    "model.compile(optimizer=\"rmsprop\",loss=\"categorical_crossentropy\", metrics=[\"accuracy\"])\n",
    "model.fit(x_train, y_train, epochs=9, batch_size=512)\n",
    "results = model.evaluate(x_test, y_test)"
   ]
  },
  {
   "cell_type": "code",
   "execution_count": 15,
   "id": "27e34ff4",
   "metadata": {},
   "outputs": [
    {
     "data": {
      "text/plain": [
       "[0.9474698901176453, 0.7951914668083191]"
      ]
     },
     "execution_count": 15,
     "metadata": {},
     "output_type": "execute_result"
    }
   ],
   "source": [
    "results"
   ]
  },
  {
   "cell_type": "markdown",
   "id": "1de42d63",
   "metadata": {},
   "source": [
    "This approach reaches an accuracy of ~80%. With a balanced binary classification\n",
    "problem, the accuracy reached by a purely random classifier would be 50%. But in\n",
    "this case, we have 46 classes, and they may not be equally represented. What would be\n",
    "the accuracy of a random baseline? "
   ]
  },
  {
   "cell_type": "code",
   "execution_count": 16,
   "id": "a55847a3",
   "metadata": {},
   "outputs": [
    {
     "data": {
      "text/plain": [
       "0.1834372217275156"
      ]
     },
     "execution_count": 16,
     "metadata": {},
     "output_type": "execute_result"
    }
   ],
   "source": [
    "import copy\n",
    "test_labels_copy = copy.copy(test_labels)\n",
    "np.random.shuffle(test_labels_copy)\n",
    "hits_array = np.array(test_labels) == np.array(test_labels_copy)\n",
    "hits_array.mean()"
   ]
  },
  {
   "cell_type": "markdown",
   "id": "21be2f1a",
   "metadata": {},
   "source": [
    "As you can see, a random classifier would score around 19% classification accuracy, so\n",
    "the results of our model seem pretty good in that light. "
   ]
  },
  {
   "cell_type": "code",
   "execution_count": 17,
   "id": "2acdd4d6",
   "metadata": {},
   "outputs": [
    {
     "name": "stdout",
     "output_type": "stream",
     "text": [
      "71/71 [==============================] - 2s 32ms/step\n"
     ]
    }
   ],
   "source": [
    "predictions = model.predict(x_test)"
   ]
  },
  {
   "cell_type": "code",
   "execution_count": 18,
   "id": "a2bc6616",
   "metadata": {},
   "outputs": [
    {
     "data": {
      "text/plain": [
       "(46,)"
      ]
     },
     "execution_count": 18,
     "metadata": {},
     "output_type": "execute_result"
    }
   ],
   "source": [
    "predictions[0].shape"
   ]
  },
  {
   "cell_type": "code",
   "execution_count": 19,
   "id": "ca4571f2",
   "metadata": {},
   "outputs": [
    {
     "data": {
      "text/plain": [
       "1.0"
      ]
     },
     "execution_count": 19,
     "metadata": {},
     "output_type": "execute_result"
    }
   ],
   "source": [
    "np.sum(predictions[0])"
   ]
  },
  {
   "cell_type": "code",
   "execution_count": 20,
   "id": "3ad8722a",
   "metadata": {},
   "outputs": [
    {
     "data": {
      "text/plain": [
       "4"
      ]
     },
     "execution_count": 20,
     "metadata": {},
     "output_type": "execute_result"
    }
   ],
   "source": [
    "np.argmax(predictions[0])"
   ]
  },
  {
   "cell_type": "code",
   "execution_count": 24,
   "id": "96b1ef98",
   "metadata": {},
   "outputs": [
    {
     "data": {
      "text/plain": [
       "46"
      ]
     },
     "execution_count": 24,
     "metadata": {},
     "output_type": "execute_result"
    }
   ],
   "source": [
    " len(predictions[0])"
   ]
  },
  {
   "cell_type": "markdown",
   "id": "1832847c",
   "metadata": {},
   "source": [
    "**This means that there are 46 predictions values generated. Another way to find this out is to look at the final dense layer in the model which has 46 output classes using softmax as activation function that converts the input real values into the a probability distribution of 46 values totalling to 1.**"
   ]
  },
  {
   "cell_type": "markdown",
   "id": "e1ee2d1e",
   "metadata": {},
   "source": [
    "#### Comparing this model with the IMDB one in LAB03"
   ]
  },
  {
   "attachments": {},
   "cell_type": "markdown",
   "id": "65822ad3",
   "metadata": {},
   "source": [
    "|Differences based on|IMDB| REUTERS|\n",
    "|:----:|:----:|:----:|\n",
    "|Number and type of layers|(3, Dense)|(3, Dense)|\n",
    "|Number and type of inputs|9000 int vectors| 10000 int vectors|\n",
    "|Number and type of output|1-dimensional vector|46-dimensional vector|\n",
    "|Activation functions|ReLU and Softmax|ReLU and Sigmoid|\n",
    "|Optimizer|rmsprop|rmsprop|\n",
    "|Loss Function|binary_crossentropy|categorical_crossentropy|\n",
    "|Resulting Training/Validation accuracy|88%|80%|"
   ]
  },
  {
   "cell_type": "code",
   "execution_count": null,
   "id": "236a1210",
   "metadata": {},
   "outputs": [],
   "source": []
  }
 ],
 "metadata": {
  "kernelspec": {
   "display_name": "Python 3 (ipykernel)",
   "language": "python",
   "name": "python3"
  },
  "language_info": {
   "codemirror_mode": {
    "name": "ipython",
    "version": 3
   },
   "file_extension": ".py",
   "mimetype": "text/x-python",
   "name": "python",
   "nbconvert_exporter": "python",
   "pygments_lexer": "ipython3",
   "version": "3.10.9"
  }
 },
 "nbformat": 4,
 "nbformat_minor": 5
}
