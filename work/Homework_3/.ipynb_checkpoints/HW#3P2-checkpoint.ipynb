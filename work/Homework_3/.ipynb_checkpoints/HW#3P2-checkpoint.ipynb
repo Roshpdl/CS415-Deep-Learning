{
 "cells": [
  {
   "cell_type": "markdown",
   "metadata": {
    "id": "XE4ZDvO-JhE7"
   },
   "source": [
    "**Comparing Regression Model with the NewsWire (Multiclass Classification) Model**"
   ]
  },
  {
   "cell_type": "markdown",
   "metadata": {
    "id": "K_Td2A7CKHl_"
   },
   "source": [
    "| Differences Based On | NewsWire | Boston Housing |\n",
    "| :----: | :----: | :----: |\n",
    "| Number and type of layers | (3 Dense: 2 intermediate with 64 units and final with 46 units) | (3 Dense: 2 intermediate with 64 units and final linear layer with 1 scalar output)\n",
    "| Number and type of inputs | (10000,) int | (506, 13) float|\n",
    "| Number and type of output | 46 dimensional vector, int | scalar\n",
    "| Activation | ReLU and Softmax | ReLU |\n",
    "| Optimizer | rmsprop | rmsprop |\n",
    "| Loss Function | categorical crossentropy | mean squared error\n",
    "| Resulting Training/Validation accuracy | 80% | off by $2800 | \n"
   ]
  }
 ],
 "metadata": {
  "colab": {
   "provenance": []
  },
  "kernelspec": {
   "display_name": "Python 3 (ipykernel)",
   "language": "python",
   "name": "python3"
  },
  "language_info": {
   "codemirror_mode": {
    "name": "ipython",
    "version": 3
   },
   "file_extension": ".py",
   "mimetype": "text/x-python",
   "name": "python",
   "nbconvert_exporter": "python",
   "pygments_lexer": "ipython3",
   "version": "3.10.9"
  }
 },
 "nbformat": 4,
 "nbformat_minor": 1
}
