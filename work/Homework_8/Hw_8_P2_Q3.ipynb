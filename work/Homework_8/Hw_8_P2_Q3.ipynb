{
  "cells": [
    {
      "cell_type": "markdown",
      "metadata": {
        "id": "P44i9Go66465"
      },
      "source": [
        "### Processing words as a sequence: The sequence model approach"
      ]
    },
    {
      "cell_type": "markdown",
      "metadata": {
        "id": "DGcw4Axy6465"
      },
      "source": [
        "#### A first practical example"
      ]
    },
    {
      "cell_type": "markdown",
      "metadata": {
        "id": "3fxvdo936465"
      },
      "source": [
        "**Downloading the data**"
      ]
    },
    {
      "cell_type": "code",
      "execution_count": 1,
      "metadata": {
        "id": "91EfgoIw6465",
        "colab": {
          "base_uri": "https://localhost:8080/"
        },
        "outputId": "47cdc269-518e-40a4-b5e1-ba012b2d2cc3"
      },
      "outputs": [
        {
          "output_type": "stream",
          "name": "stdout",
          "text": [
            "  % Total    % Received % Xferd  Average Speed   Time    Time     Time  Current\n",
            "                                 Dload  Upload   Total   Spent    Left  Speed\n",
            "100 80.2M  100 80.2M    0     0  10.3M      0  0:00:07  0:00:07 --:--:-- 18.1M\n"
          ]
        }
      ],
      "source": [
        "!curl -O https://ai.stanford.edu/~amaas/data/sentiment/aclImdb_v1.tar.gz\n",
        "!tar -xf aclImdb_v1.tar.gz\n",
        "!rm -r aclImdb/train/unsup"
      ]
    },
    {
      "cell_type": "markdown",
      "metadata": {
        "id": "o6Bb1Hp36466"
      },
      "source": [
        "**Preparing the data**"
      ]
    },
    {
      "cell_type": "code",
      "execution_count": 2,
      "metadata": {
        "id": "Yeaz1rgg6466",
        "colab": {
          "base_uri": "https://localhost:8080/"
        },
        "outputId": "72fd35cd-1033-4081-d3f6-3e467f5ea947"
      },
      "outputs": [
        {
          "output_type": "stream",
          "name": "stdout",
          "text": [
            "Found 20000 files belonging to 2 classes.\n",
            "Found 5000 files belonging to 2 classes.\n",
            "Found 25000 files belonging to 2 classes.\n"
          ]
        }
      ],
      "source": [
        "import os, pathlib, shutil, random\n",
        "from tensorflow import keras\n",
        "batch_size = 32\n",
        "base_dir = pathlib.Path(\"aclImdb\")\n",
        "val_dir = base_dir / \"val\"\n",
        "train_dir = base_dir / \"train\"\n",
        "for category in (\"neg\", \"pos\"):\n",
        "    os.makedirs(val_dir / category)\n",
        "    files = os.listdir(train_dir / category)\n",
        "    random.Random(1337).shuffle(files)\n",
        "    num_val_samples = int(0.2 * len(files))\n",
        "    val_files = files[-num_val_samples:]\n",
        "    for fname in val_files:\n",
        "        shutil.move(train_dir / category / fname,\n",
        "                    val_dir / category / fname)\n",
        "\n",
        "train_ds = keras.utils.text_dataset_from_directory(\n",
        "    \"aclImdb/train\", batch_size=batch_size\n",
        ")\n",
        "val_ds = keras.utils.text_dataset_from_directory(\n",
        "    \"aclImdb/val\", batch_size=batch_size\n",
        ")\n",
        "test_ds = keras.utils.text_dataset_from_directory(\n",
        "    \"aclImdb/test\", batch_size=batch_size\n",
        ")\n",
        "text_only_train_ds = train_ds.map(lambda x, y: x)"
      ]
    },
    {
      "cell_type": "markdown",
      "metadata": {
        "id": "AW2ke9BY6466"
      },
      "source": [
        "**Preparing integer sequence datasets**"
      ]
    },
    {
      "cell_type": "code",
      "execution_count": 3,
      "metadata": {
        "id": "LHKMRoRH6466"
      },
      "outputs": [],
      "source": [
        "from tensorflow.keras import layers\n",
        "\n",
        "max_length = 600\n",
        "max_tokens = 20000\n",
        "text_vectorization = layers.TextVectorization(\n",
        "    max_tokens=max_tokens,\n",
        "    output_mode=\"int\",\n",
        "    output_sequence_length=max_length,\n",
        ")\n",
        "text_vectorization.adapt(text_only_train_ds)\n",
        "\n",
        "int_train_ds = train_ds.map(\n",
        "    lambda x, y: (text_vectorization(x), y),\n",
        "    num_parallel_calls=4)\n",
        "int_val_ds = val_ds.map(\n",
        "    lambda x, y: (text_vectorization(x), y),\n",
        "    num_parallel_calls=4)\n",
        "int_test_ds = test_ds.map(\n",
        "    lambda x, y: (text_vectorization(x), y),\n",
        "    num_parallel_calls=4)"
      ]
    },
    {
      "cell_type": "markdown",
      "metadata": {
        "id": "F3ZhOeJ86466"
      },
      "source": [
        "**A sequence model built on one-hot encoded vector sequences**"
      ]
    },
    {
      "cell_type": "code",
      "execution_count": 4,
      "metadata": {
        "id": "fWArE34_6467",
        "colab": {
          "base_uri": "https://localhost:8080/"
        },
        "outputId": "19fffad8-0799-411f-a2ae-2841cae7c955"
      },
      "outputs": [
        {
          "output_type": "stream",
          "name": "stdout",
          "text": [
            "Model: \"model\"\n",
            "_________________________________________________________________\n",
            " Layer (type)                Output Shape              Param #   \n",
            "=================================================================\n",
            " input_1 (InputLayer)        [(None, None)]            0         \n",
            "                                                                 \n",
            " tf.one_hot (TFOpLambda)     (None, None, 20000)       0         \n",
            "                                                                 \n",
            " bidirectional (Bidirectiona  (None, 64)               5128448   \n",
            " l)                                                              \n",
            "                                                                 \n",
            " dropout (Dropout)           (None, 64)                0         \n",
            "                                                                 \n",
            " dense (Dense)               (None, 1)                 65        \n",
            "                                                                 \n",
            "=================================================================\n",
            "Total params: 5,128,513\n",
            "Trainable params: 5,128,513\n",
            "Non-trainable params: 0\n",
            "_________________________________________________________________\n"
          ]
        }
      ],
      "source": [
        "import tensorflow as tf\n",
        "inputs = keras.Input(shape=(None,), dtype=\"int64\")\n",
        "embedded = tf.one_hot(inputs, depth=max_tokens)\n",
        "x = layers.Bidirectional(layers.LSTM(32))(embedded)\n",
        "x = layers.Dropout(0.5)(x)\n",
        "outputs = layers.Dense(1, activation=\"sigmoid\")(x)\n",
        "model = keras.Model(inputs, outputs)\n",
        "model.compile(optimizer=\"rmsprop\",\n",
        "              loss=\"binary_crossentropy\",\n",
        "              metrics=[\"accuracy\"])\n",
        "model.summary()"
      ]
    },
    {
      "cell_type": "markdown",
      "metadata": {
        "id": "4IP8lAGW6467"
      },
      "source": [
        "**Training a first basic sequence model**"
      ]
    },
    {
      "cell_type": "code",
      "execution_count": 14,
      "metadata": {
        "id": "kKPQruNG6467",
        "colab": {
          "base_uri": "https://localhost:8080/"
        },
        "outputId": "45155a4a-5618-4f20-8f95-ec9ef1368eb3"
      },
      "outputs": [
        {
          "output_type": "stream",
          "name": "stdout",
          "text": [
            "Epoch 1/10\n",
            "625/625 [==============================] - 41s 57ms/step - loss: 0.2484 - accuracy: 0.8988 - val_loss: 0.2955 - val_accuracy: 0.8770\n",
            "Epoch 2/10\n",
            "625/625 [==============================] - 33s 53ms/step - loss: 0.2355 - accuracy: 0.9060 - val_loss: 0.3005 - val_accuracy: 0.8762\n",
            "Epoch 3/10\n",
            "625/625 [==============================] - 34s 55ms/step - loss: 0.2237 - accuracy: 0.9115 - val_loss: 0.2902 - val_accuracy: 0.8828\n",
            "Epoch 4/10\n",
            "625/625 [==============================] - 32s 51ms/step - loss: 0.2099 - accuracy: 0.9172 - val_loss: 0.2973 - val_accuracy: 0.8776\n",
            "Epoch 5/10\n",
            "625/625 [==============================] - 30s 47ms/step - loss: 0.2044 - accuracy: 0.9211 - val_loss: 0.2985 - val_accuracy: 0.8806\n",
            "Epoch 6/10\n",
            "625/625 [==============================] - 30s 47ms/step - loss: 0.1900 - accuracy: 0.9261 - val_loss: 0.3507 - val_accuracy: 0.8550\n",
            "Epoch 7/10\n",
            "625/625 [==============================] - 32s 51ms/step - loss: 0.1800 - accuracy: 0.9286 - val_loss: 0.2996 - val_accuracy: 0.8862\n",
            "Epoch 8/10\n",
            "625/625 [==============================] - 30s 48ms/step - loss: 0.1700 - accuracy: 0.9345 - val_loss: 0.3276 - val_accuracy: 0.8804\n",
            "Epoch 9/10\n",
            "625/625 [==============================] - 30s 48ms/step - loss: 0.1568 - accuracy: 0.9389 - val_loss: 0.3219 - val_accuracy: 0.8762\n",
            "Epoch 10/10\n",
            "625/625 [==============================] - 31s 49ms/step - loss: 0.1468 - accuracy: 0.9441 - val_loss: 0.3442 - val_accuracy: 0.8840\n",
            "782/782 [==============================] - 18s 19ms/step - loss: 0.2943 - accuracy: 0.8779\n",
            "Test acc: 0.878\n"
          ]
        }
      ],
      "source": [
        "callbacks = [\n",
        "    keras.callbacks.ModelCheckpoint(\"one_hot_bidir_lstm.keras\",\n",
        "                                    save_best_only=True)\n",
        "]\n",
        "model.fit(int_train_ds, validation_data=int_val_ds, epochs=10, callbacks=callbacks)\n",
        "model = keras.models.load_model(\"one_hot_bidir_lstm.keras\")\n",
        "print(f\"Test acc: {model.evaluate(int_test_ds)[1]:.3f}\")"
      ]
    },
    {
      "cell_type": "markdown",
      "metadata": {
        "id": "AURdI1J16467"
      },
      "source": [
        "#### Understanding word embeddings"
      ]
    },
    {
      "cell_type": "markdown",
      "metadata": {
        "id": "hHRINXaa6467"
      },
      "source": [
        "#### Learning word embeddings with the Embedding layer"
      ]
    },
    {
      "cell_type": "markdown",
      "metadata": {
        "id": "IK--Cp-26467"
      },
      "source": [
        "**Instantiating an `Embedding` layer**"
      ]
    },
    {
      "cell_type": "code",
      "execution_count": null,
      "metadata": {
        "id": "CT59mNtt6467"
      },
      "outputs": [],
      "source": [
        "embedding_layer = layers.Embedding(input_dim=max_tokens, output_dim=256)"
      ]
    },
    {
      "cell_type": "markdown",
      "metadata": {
        "id": "9pOMnMRf6467"
      },
      "source": [
        "**Model that uses an `Embedding` layer trained from scratch**"
      ]
    },
    {
      "cell_type": "code",
      "execution_count": 7,
      "metadata": {
        "id": "PYxys2H76467",
        "colab": {
          "base_uri": "https://localhost:8080/"
        },
        "outputId": "ebe8ca0f-34a0-4d68-d272-707dd93abd00"
      },
      "outputs": [
        {
          "output_type": "stream",
          "name": "stdout",
          "text": [
            "Model: \"model_1\"\n",
            "_________________________________________________________________\n",
            " Layer (type)                Output Shape              Param #   \n",
            "=================================================================\n",
            " input_2 (InputLayer)        [(None, None)]            0         \n",
            "                                                                 \n",
            " embedding_1 (Embedding)     (None, None, 256)         5120000   \n",
            "                                                                 \n",
            " bidirectional_1 (Bidirectio  (None, 64)               73984     \n",
            " nal)                                                            \n",
            "                                                                 \n",
            " dropout_1 (Dropout)         (None, 64)                0         \n",
            "                                                                 \n",
            " dense_1 (Dense)             (None, 1)                 65        \n",
            "                                                                 \n",
            "=================================================================\n",
            "Total params: 5,194,049\n",
            "Trainable params: 5,194,049\n",
            "Non-trainable params: 0\n",
            "_________________________________________________________________\n",
            "Epoch 1/10\n",
            "625/625 [==============================] - 91s 139ms/step - loss: 0.5318 - accuracy: 0.7291 - val_loss: 0.3918 - val_accuracy: 0.8304\n",
            "Epoch 2/10\n",
            "625/625 [==============================] - 50s 80ms/step - loss: 0.3623 - accuracy: 0.8622 - val_loss: 0.3195 - val_accuracy: 0.8778\n",
            "Epoch 3/10\n",
            "625/625 [==============================] - 36s 57ms/step - loss: 0.2991 - accuracy: 0.8949 - val_loss: 0.3529 - val_accuracy: 0.8672\n",
            "Epoch 4/10\n",
            "625/625 [==============================] - 31s 50ms/step - loss: 0.2567 - accuracy: 0.9104 - val_loss: 0.3222 - val_accuracy: 0.8778\n",
            "Epoch 5/10\n",
            "625/625 [==============================] - 31s 49ms/step - loss: 0.2207 - accuracy: 0.9238 - val_loss: 0.3463 - val_accuracy: 0.8824\n",
            "Epoch 6/10\n",
            "625/625 [==============================] - 29s 46ms/step - loss: 0.1832 - accuracy: 0.9402 - val_loss: 0.3482 - val_accuracy: 0.8794\n",
            "Epoch 7/10\n",
            "625/625 [==============================] - 29s 46ms/step - loss: 0.1644 - accuracy: 0.9468 - val_loss: 0.3727 - val_accuracy: 0.8752\n",
            "Epoch 8/10\n",
            "625/625 [==============================] - 28s 44ms/step - loss: 0.1387 - accuracy: 0.9560 - val_loss: 0.3647 - val_accuracy: 0.8768\n",
            "Epoch 9/10\n",
            "625/625 [==============================] - 27s 43ms/step - loss: 0.1248 - accuracy: 0.9610 - val_loss: 0.4598 - val_accuracy: 0.8688\n",
            "Epoch 10/10\n",
            "625/625 [==============================] - 29s 47ms/step - loss: 0.1082 - accuracy: 0.9678 - val_loss: 0.4389 - val_accuracy: 0.8722\n",
            "782/782 [==============================] - 14s 17ms/step - loss: 0.3469 - accuracy: 0.8636\n",
            "Test acc: 0.864\n"
          ]
        }
      ],
      "source": [
        "inputs = keras.Input(shape=(None,), dtype=\"int64\")\n",
        "embedded = layers.Embedding(input_dim=max_tokens, output_dim=256)(inputs)\n",
        "x = layers.Bidirectional(layers.LSTM(32))(embedded)\n",
        "x = layers.Dropout(0.5)(x)\n",
        "outputs = layers.Dense(1, activation=\"sigmoid\")(x)\n",
        "model = keras.Model(inputs, outputs)\n",
        "model.compile(optimizer=\"rmsprop\",\n",
        "              loss=\"binary_crossentropy\",\n",
        "              metrics=[\"accuracy\"])\n",
        "model.summary()\n",
        "\n",
        "callbacks = [\n",
        "    keras.callbacks.ModelCheckpoint(\"embeddings_bidir_gru.keras\",\n",
        "                                    save_best_only=True)\n",
        "]\n",
        "model.fit(int_train_ds, validation_data=int_val_ds, epochs=10, callbacks=callbacks)\n",
        "model = keras.models.load_model(\"embeddings_bidir_gru.keras\")\n",
        "print(f\"Test acc: {model.evaluate(int_test_ds)[1]:.3f}\")"
      ]
    },
    {
      "cell_type": "markdown",
      "metadata": {
        "id": "As-6WIQh6467"
      },
      "source": [
        "#### Understanding padding and masking"
      ]
    },
    {
      "cell_type": "markdown",
      "metadata": {
        "id": "J2t_ECs76467"
      },
      "source": [
        "**Using an `Embedding` layer with masking enabled**"
      ]
    },
    {
      "cell_type": "code",
      "execution_count": 8,
      "metadata": {
        "id": "Oa--9SUI6468",
        "colab": {
          "base_uri": "https://localhost:8080/"
        },
        "outputId": "ddcb9e58-941c-4aeb-c60d-17a7b2b242df"
      },
      "outputs": [
        {
          "output_type": "stream",
          "name": "stdout",
          "text": [
            "Model: \"model_2\"\n",
            "_________________________________________________________________\n",
            " Layer (type)                Output Shape              Param #   \n",
            "=================================================================\n",
            " input_3 (InputLayer)        [(None, None)]            0         \n",
            "                                                                 \n",
            " embedding_2 (Embedding)     (None, None, 256)         5120000   \n",
            "                                                                 \n",
            " bidirectional_2 (Bidirectio  (None, 64)               73984     \n",
            " nal)                                                            \n",
            "                                                                 \n",
            " dropout_2 (Dropout)         (None, 64)                0         \n",
            "                                                                 \n",
            " dense_2 (Dense)             (None, 1)                 65        \n",
            "                                                                 \n",
            "=================================================================\n",
            "Total params: 5,194,049\n",
            "Trainable params: 5,194,049\n",
            "Non-trainable params: 0\n",
            "_________________________________________________________________\n",
            "Epoch 1/10\n",
            "625/625 [==============================] - 87s 126ms/step - loss: 0.4507 - accuracy: 0.7818 - val_loss: 0.3138 - val_accuracy: 0.8624\n",
            "Epoch 2/10\n",
            "625/625 [==============================] - 48s 77ms/step - loss: 0.2755 - accuracy: 0.8906 - val_loss: 0.3114 - val_accuracy: 0.8764\n",
            "Epoch 3/10\n",
            "625/625 [==============================] - 40s 64ms/step - loss: 0.2092 - accuracy: 0.9205 - val_loss: 0.2983 - val_accuracy: 0.8768\n",
            "Epoch 4/10\n",
            "625/625 [==============================] - 36s 58ms/step - loss: 0.1637 - accuracy: 0.9405 - val_loss: 0.4495 - val_accuracy: 0.8402\n",
            "Epoch 5/10\n",
            "625/625 [==============================] - 34s 54ms/step - loss: 0.1201 - accuracy: 0.9562 - val_loss: 0.3539 - val_accuracy: 0.8752\n",
            "Epoch 6/10\n",
            "625/625 [==============================] - 32s 52ms/step - loss: 0.0942 - accuracy: 0.9671 - val_loss: 0.3808 - val_accuracy: 0.8746\n",
            "Epoch 7/10\n",
            "625/625 [==============================] - 31s 50ms/step - loss: 0.0732 - accuracy: 0.9755 - val_loss: 0.4365 - val_accuracy: 0.8644\n",
            "Epoch 8/10\n",
            "625/625 [==============================] - 32s 51ms/step - loss: 0.0560 - accuracy: 0.9818 - val_loss: 0.4361 - val_accuracy: 0.8704\n",
            "Epoch 9/10\n",
            "625/625 [==============================] - 34s 54ms/step - loss: 0.0453 - accuracy: 0.9846 - val_loss: 0.4814 - val_accuracy: 0.8764\n",
            "Epoch 10/10\n",
            "625/625 [==============================] - 30s 49ms/step - loss: 0.0372 - accuracy: 0.9881 - val_loss: 0.4983 - val_accuracy: 0.8710\n",
            "782/782 [==============================] - 18s 19ms/step - loss: 0.3195 - accuracy: 0.8666\n",
            "Test acc: 0.867\n"
          ]
        }
      ],
      "source": [
        "inputs = keras.Input(shape=(None,), dtype=\"int64\")\n",
        "embedded = layers.Embedding(\n",
        "    input_dim=max_tokens, output_dim=256, mask_zero=True)(inputs)\n",
        "x = layers.Bidirectional(layers.LSTM(32))(embedded)\n",
        "x = layers.Dropout(0.5)(x)\n",
        "outputs = layers.Dense(1, activation=\"sigmoid\")(x)\n",
        "model = keras.Model(inputs, outputs)\n",
        "model.compile(optimizer=\"rmsprop\",\n",
        "              loss=\"binary_crossentropy\",\n",
        "              metrics=[\"accuracy\"])\n",
        "model.summary()\n",
        "\n",
        "callbacks = [\n",
        "    keras.callbacks.ModelCheckpoint(\"embeddings_bidir_gru_with_masking.keras\",\n",
        "                                    save_best_only=True)\n",
        "]\n",
        "model.fit(int_train_ds, validation_data=int_val_ds, epochs=10, callbacks=callbacks)\n",
        "model = keras.models.load_model(\"embeddings_bidir_gru_with_masking.keras\")\n",
        "print(f\"Test acc: {model.evaluate(int_test_ds)[1]:.3f}\")"
      ]
    },
    {
      "cell_type": "markdown",
      "metadata": {
        "id": "Zme_R4Ec6468"
      },
      "source": [
        "#### Using pretrained word embeddings"
      ]
    },
    {
      "cell_type": "code",
      "execution_count": null,
      "metadata": {
        "id": "W-vxsG7s6468"
      },
      "outputs": [],
      "source": [
        "!wget http://nlp.stanford.edu/data/glove.6B.zip\n",
        "!unzip -q glove.6B.zip"
      ]
    },
    {
      "cell_type": "markdown",
      "metadata": {
        "id": "9nRn-Tis6468"
      },
      "source": [
        "**Parsing the GloVe word-embeddings file**"
      ]
    },
    {
      "cell_type": "code",
      "execution_count": 10,
      "metadata": {
        "id": "92F3gAXK6468",
        "colab": {
          "base_uri": "https://localhost:8080/"
        },
        "outputId": "81d93362-1cd0-4e8e-a92a-8a8b7271728b"
      },
      "outputs": [
        {
          "output_type": "stream",
          "name": "stdout",
          "text": [
            "Found 400000 word vectors.\n"
          ]
        }
      ],
      "source": [
        "import numpy as np\n",
        "path_to_glove_file = \"glove.6B.100d.txt\"\n",
        "\n",
        "embeddings_index = {}\n",
        "with open(path_to_glove_file) as f:\n",
        "    for line in f:\n",
        "        word, coefs = line.split(maxsplit=1)\n",
        "        coefs = np.fromstring(coefs, \"f\", sep=\" \")\n",
        "        embeddings_index[word] = coefs\n",
        "\n",
        "print(f\"Found {len(embeddings_index)} word vectors.\")"
      ]
    },
    {
      "cell_type": "markdown",
      "metadata": {
        "id": "K5fRnWfi6468"
      },
      "source": [
        "**Preparing the GloVe word-embeddings matrix**"
      ]
    },
    {
      "cell_type": "code",
      "execution_count": null,
      "metadata": {
        "id": "iG0EhdF26468"
      },
      "outputs": [],
      "source": [
        "embedding_dim = 100\n",
        "\n",
        "vocabulary = text_vectorization.get_vocabulary()\n",
        "word_index = dict(zip(vocabulary, range(len(vocabulary))))\n",
        "\n",
        "embedding_matrix = np.zeros((max_tokens, embedding_dim))\n",
        "for word, i in word_index.items():\n",
        "    if i < max_tokens:\n",
        "        embedding_vector = embeddings_index.get(word)\n",
        "    if embedding_vector is not None:\n",
        "        embedding_matrix[i] = embedding_vector"
      ]
    },
    {
      "cell_type": "code",
      "execution_count": 12,
      "metadata": {
        "id": "DsqdyLMO6468"
      },
      "outputs": [],
      "source": [
        "embedding_layer = layers.Embedding(\n",
        "    max_tokens,\n",
        "    embedding_dim,\n",
        "    embeddings_initializer=keras.initializers.Constant(embedding_matrix),\n",
        "    trainable=False,\n",
        "    mask_zero=True,\n",
        ")"
      ]
    },
    {
      "cell_type": "markdown",
      "metadata": {
        "id": "f-7MKH426468"
      },
      "source": [
        "**Model that uses a pretrained Embedding layer**"
      ]
    },
    {
      "cell_type": "code",
      "execution_count": 13,
      "metadata": {
        "id": "YHRBGLJO6468",
        "colab": {
          "base_uri": "https://localhost:8080/"
        },
        "outputId": "a636a8d2-6ec1-4fa6-e938-c3a06078ed88"
      },
      "outputs": [
        {
          "metadata": {
            "tags": null
          },
          "name": "stdout",
          "output_type": "stream",
          "text": [
            "Model: \"model_3\"\n",
            "_________________________________________________________________\n",
            " Layer (type)                Output Shape              Param #   \n",
            "=================================================================\n",
            " input_4 (InputLayer)        [(None, None)]            0         \n",
            "                                                                 \n",
            " embedding_3 (Embedding)     (None, None, 100)         2000000   \n",
            "                                                                 \n",
            " bidirectional_3 (Bidirectio  (None, 64)               34048     \n",
            " nal)                                                            \n",
            "                                                                 \n",
            " dropout_3 (Dropout)         (None, 64)                0         \n",
            "                                                                 \n",
            " dense_3 (Dense)             (None, 1)                 65        \n",
            "                                                                 \n",
            "=================================================================\n",
            "Total params: 2,034,113\n",
            "Trainable params: 34,113\n",
            "Non-trainable params: 2,000,000\n",
            "_________________________________________________________________\n",
            "Epoch 1/10\n",
            "625/625 [==============================] - 46s 59ms/step - loss: 0.5759 - accuracy: 0.6941 - val_loss: 0.7096 - val_accuracy: 0.6438\n",
            "Epoch 2/10\n",
            "625/625 [==============================] - 34s 55ms/step - loss: 0.4581 - accuracy: 0.7931 - val_loss: 0.4147 - val_accuracy: 0.8166\n",
            "Epoch 3/10\n",
            "625/625 [==============================] - 33s 53ms/step - loss: 0.4004 - accuracy: 0.8255 - val_loss: 0.3670 - val_accuracy: 0.8412\n",
            "Epoch 4/10\n",
            "625/625 [==============================] - 31s 50ms/step - loss: 0.3730 - accuracy: 0.8419 - val_loss: 0.3604 - val_accuracy: 0.8410\n",
            "Epoch 5/10\n",
            "625/625 [==============================] - 31s 49ms/step - loss: 0.3458 - accuracy: 0.8528 - val_loss: 0.3513 - val_accuracy: 0.8426\n",
            "Epoch 6/10\n",
            "625/625 [==============================] - 31s 50ms/step - loss: 0.3265 - accuracy: 0.8655 - val_loss: 0.3130 - val_accuracy: 0.8680\n",
            "Epoch 7/10\n",
            "625/625 [==============================] - 29s 46ms/step - loss: 0.3087 - accuracy: 0.8731 - val_loss: 0.3257 - val_accuracy: 0.8622\n",
            "Epoch 8/10\n",
            "625/625 [==============================] - 34s 54ms/step - loss: 0.2911 - accuracy: 0.8792 - val_loss: 0.2935 - val_accuracy: 0.8752\n",
            "Epoch 9/10\n",
            "625/625 [==============================] - 29s 46ms/step - loss: 0.2788 - accuracy: 0.8855 - val_loss: 0.2972 - val_accuracy: 0.8774\n",
            "Epoch 10/10\n",
            "625/625 [==============================] - 31s 50ms/step - loss: 0.2614 - accuracy: 0.8947 - val_loss: 0.2909 - val_accuracy: 0.8796\n",
            "782/782 [==============================] - 18s 20ms/step - loss: 0.2959 - accuracy: 0.8738\n",
            "Test acc: 0.874\n"
          ]
        }
      ],
      "source": [
        "inputs = keras.Input(shape=(None,), dtype=\"int64\")\n",
        "embedded = embedding_layer(inputs)\n",
        "x = layers.Bidirectional(layers.LSTM(32))(embedded)\n",
        "x = layers.Dropout(0.5)(x)\n",
        "outputs = layers.Dense(1, activation=\"sigmoid\")(x)\n",
        "model = keras.Model(inputs, outputs)\n",
        "model.compile(optimizer=\"rmsprop\",\n",
        "              loss=\"binary_crossentropy\",\n",
        "              metrics=[\"accuracy\"])\n",
        "model.summary()\n",
        "\n",
        "callbacks = [\n",
        "    keras.callbacks.ModelCheckpoint(\"glove_embeddings_sequence_model.keras\",\n",
        "                                    save_best_only=True)\n",
        "]\n",
        "model.fit(int_train_ds, validation_data=int_val_ds, epochs=10, callbacks=callbacks)\n",
        "model = keras.models.load_model(\"glove_embeddings_sequence_model.keras\")\n",
        "print(f\"Test acc: {model.evaluate(int_test_ds)[1]:.3f}\")"
      ]
    }
  ],
  "metadata": {
    "colab": {
      "provenance": [],
      "toc_visible": true
    },
    "kernelspec": {
      "display_name": "Python 3",
      "language": "python",
      "name": "python3"
    },
    "language_info": {
      "codemirror_mode": {
        "name": "ipython",
        "version": 3
      },
      "file_extension": ".py",
      "mimetype": "text/x-python",
      "name": "python",
      "nbconvert_exporter": "python",
      "pygments_lexer": "ipython3",
      "version": "3.7.0"
    },
    "accelerator": "GPU",
    "gpuClass": "premium"
  },
  "nbformat": 4,
  "nbformat_minor": 0
}