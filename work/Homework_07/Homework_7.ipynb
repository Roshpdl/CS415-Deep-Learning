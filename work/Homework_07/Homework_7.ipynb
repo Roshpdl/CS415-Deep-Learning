{
  "nbformat": 4,
  "nbformat_minor": 0,
  "metadata": {
    "colab": {
      "provenance": []
    },
    "kernelspec": {
      "name": "python3",
      "display_name": "Python 3"
    },
    "language_info": {
      "name": "python"
    },
    "accelerator": "GPU",
    "gpuClass": "standard"
  },
  "cells": [
    {
      "cell_type": "code",
      "execution_count": null,
      "metadata": {
        "colab": {
          "base_uri": "https://localhost:8080/",
          "height": 92
        },
        "id": "ZRbfKweHf1HO",
        "outputId": "edaf8547-073a-4dec-a7ec-3391acb6820a"
      },
      "outputs": [
        {
          "output_type": "display_data",
          "data": {
            "text/plain": [
              "<IPython.core.display.HTML object>"
            ],
            "text/html": [
              "\n",
              "     <input type=\"file\" id=\"files-2e8beee1-b610-420a-99c0-10bb6eb75cb2\" name=\"files[]\" multiple disabled\n",
              "        style=\"border:none\" />\n",
              "     <output id=\"result-2e8beee1-b610-420a-99c0-10bb6eb75cb2\">\n",
              "      Upload widget is only available when the cell has been executed in the\n",
              "      current browser session. Please rerun this cell to enable.\n",
              "      </output>\n",
              "      <script>// Copyright 2017 Google LLC\n",
              "//\n",
              "// Licensed under the Apache License, Version 2.0 (the \"License\");\n",
              "// you may not use this file except in compliance with the License.\n",
              "// You may obtain a copy of the License at\n",
              "//\n",
              "//      http://www.apache.org/licenses/LICENSE-2.0\n",
              "//\n",
              "// Unless required by applicable law or agreed to in writing, software\n",
              "// distributed under the License is distributed on an \"AS IS\" BASIS,\n",
              "// WITHOUT WARRANTIES OR CONDITIONS OF ANY KIND, either express or implied.\n",
              "// See the License for the specific language governing permissions and\n",
              "// limitations under the License.\n",
              "\n",
              "/**\n",
              " * @fileoverview Helpers for google.colab Python module.\n",
              " */\n",
              "(function(scope) {\n",
              "function span(text, styleAttributes = {}) {\n",
              "  const element = document.createElement('span');\n",
              "  element.textContent = text;\n",
              "  for (const key of Object.keys(styleAttributes)) {\n",
              "    element.style[key] = styleAttributes[key];\n",
              "  }\n",
              "  return element;\n",
              "}\n",
              "\n",
              "// Max number of bytes which will be uploaded at a time.\n",
              "const MAX_PAYLOAD_SIZE = 100 * 1024;\n",
              "\n",
              "function _uploadFiles(inputId, outputId) {\n",
              "  const steps = uploadFilesStep(inputId, outputId);\n",
              "  const outputElement = document.getElementById(outputId);\n",
              "  // Cache steps on the outputElement to make it available for the next call\n",
              "  // to uploadFilesContinue from Python.\n",
              "  outputElement.steps = steps;\n",
              "\n",
              "  return _uploadFilesContinue(outputId);\n",
              "}\n",
              "\n",
              "// This is roughly an async generator (not supported in the browser yet),\n",
              "// where there are multiple asynchronous steps and the Python side is going\n",
              "// to poll for completion of each step.\n",
              "// This uses a Promise to block the python side on completion of each step,\n",
              "// then passes the result of the previous step as the input to the next step.\n",
              "function _uploadFilesContinue(outputId) {\n",
              "  const outputElement = document.getElementById(outputId);\n",
              "  const steps = outputElement.steps;\n",
              "\n",
              "  const next = steps.next(outputElement.lastPromiseValue);\n",
              "  return Promise.resolve(next.value.promise).then((value) => {\n",
              "    // Cache the last promise value to make it available to the next\n",
              "    // step of the generator.\n",
              "    outputElement.lastPromiseValue = value;\n",
              "    return next.value.response;\n",
              "  });\n",
              "}\n",
              "\n",
              "/**\n",
              " * Generator function which is called between each async step of the upload\n",
              " * process.\n",
              " * @param {string} inputId Element ID of the input file picker element.\n",
              " * @param {string} outputId Element ID of the output display.\n",
              " * @return {!Iterable<!Object>} Iterable of next steps.\n",
              " */\n",
              "function* uploadFilesStep(inputId, outputId) {\n",
              "  const inputElement = document.getElementById(inputId);\n",
              "  inputElement.disabled = false;\n",
              "\n",
              "  const outputElement = document.getElementById(outputId);\n",
              "  outputElement.innerHTML = '';\n",
              "\n",
              "  const pickedPromise = new Promise((resolve) => {\n",
              "    inputElement.addEventListener('change', (e) => {\n",
              "      resolve(e.target.files);\n",
              "    });\n",
              "  });\n",
              "\n",
              "  const cancel = document.createElement('button');\n",
              "  inputElement.parentElement.appendChild(cancel);\n",
              "  cancel.textContent = 'Cancel upload';\n",
              "  const cancelPromise = new Promise((resolve) => {\n",
              "    cancel.onclick = () => {\n",
              "      resolve(null);\n",
              "    };\n",
              "  });\n",
              "\n",
              "  // Wait for the user to pick the files.\n",
              "  const files = yield {\n",
              "    promise: Promise.race([pickedPromise, cancelPromise]),\n",
              "    response: {\n",
              "      action: 'starting',\n",
              "    }\n",
              "  };\n",
              "\n",
              "  cancel.remove();\n",
              "\n",
              "  // Disable the input element since further picks are not allowed.\n",
              "  inputElement.disabled = true;\n",
              "\n",
              "  if (!files) {\n",
              "    return {\n",
              "      response: {\n",
              "        action: 'complete',\n",
              "      }\n",
              "    };\n",
              "  }\n",
              "\n",
              "  for (const file of files) {\n",
              "    const li = document.createElement('li');\n",
              "    li.append(span(file.name, {fontWeight: 'bold'}));\n",
              "    li.append(span(\n",
              "        `(${file.type || 'n/a'}) - ${file.size} bytes, ` +\n",
              "        `last modified: ${\n",
              "            file.lastModifiedDate ? file.lastModifiedDate.toLocaleDateString() :\n",
              "                                    'n/a'} - `));\n",
              "    const percent = span('0% done');\n",
              "    li.appendChild(percent);\n",
              "\n",
              "    outputElement.appendChild(li);\n",
              "\n",
              "    const fileDataPromise = new Promise((resolve) => {\n",
              "      const reader = new FileReader();\n",
              "      reader.onload = (e) => {\n",
              "        resolve(e.target.result);\n",
              "      };\n",
              "      reader.readAsArrayBuffer(file);\n",
              "    });\n",
              "    // Wait for the data to be ready.\n",
              "    let fileData = yield {\n",
              "      promise: fileDataPromise,\n",
              "      response: {\n",
              "        action: 'continue',\n",
              "      }\n",
              "    };\n",
              "\n",
              "    // Use a chunked sending to avoid message size limits. See b/62115660.\n",
              "    let position = 0;\n",
              "    do {\n",
              "      const length = Math.min(fileData.byteLength - position, MAX_PAYLOAD_SIZE);\n",
              "      const chunk = new Uint8Array(fileData, position, length);\n",
              "      position += length;\n",
              "\n",
              "      const base64 = btoa(String.fromCharCode.apply(null, chunk));\n",
              "      yield {\n",
              "        response: {\n",
              "          action: 'append',\n",
              "          file: file.name,\n",
              "          data: base64,\n",
              "        },\n",
              "      };\n",
              "\n",
              "      let percentDone = fileData.byteLength === 0 ?\n",
              "          100 :\n",
              "          Math.round((position / fileData.byteLength) * 100);\n",
              "      percent.textContent = `${percentDone}% done`;\n",
              "\n",
              "    } while (position < fileData.byteLength);\n",
              "  }\n",
              "\n",
              "  // All done.\n",
              "  yield {\n",
              "    response: {\n",
              "      action: 'complete',\n",
              "    }\n",
              "  };\n",
              "}\n",
              "\n",
              "scope.google = scope.google || {};\n",
              "scope.google.colab = scope.google.colab || {};\n",
              "scope.google.colab._files = {\n",
              "  _uploadFiles,\n",
              "  _uploadFilesContinue,\n",
              "};\n",
              "})(self);\n",
              "</script> "
            ]
          },
          "metadata": {}
        },
        {
          "output_type": "stream",
          "name": "stdout",
          "text": [
            "Saving kaggle.json to kaggle.json\n"
          ]
        },
        {
          "output_type": "execute_result",
          "data": {
            "text/plain": [
              "{'kaggle.json': b'{\"username\":\"roshanpdl\",\"key\":\"66ce4e4bafff81eacd41b1f61f52c2a7\"}'}"
            ]
          },
          "metadata": {},
          "execution_count": 1
        }
      ],
      "source": [
        "from google.colab import files\n",
        "files.upload()"
      ]
    },
    {
      "cell_type": "code",
      "execution_count": null,
      "metadata": {
        "id": "JzpQeaOBghjy"
      },
      "outputs": [],
      "source": [
        "!mkdir ~/.kaggle\n",
        "!mv kaggle.json ~/.kaggle/\n",
        "!chmod 600 ~/.kaggle/kaggle.json"
      ]
    },
    {
      "cell_type": "code",
      "execution_count": null,
      "metadata": {
        "id": "LlO30E1pglkV",
        "colab": {
          "base_uri": "https://localhost:8080/"
        },
        "outputId": "a620f024-5344-40d3-ead7-90861dccb675"
      },
      "outputs": [
        {
          "output_type": "stream",
          "name": "stdout",
          "text": [
            "Downloading dogs-vs-cats.zip to /content\n",
            " 99% 805M/812M [00:07<00:00, 173MB/s]\n",
            "100% 812M/812M [00:07<00:00, 120MB/s]\n"
          ]
        }
      ],
      "source": [
        "!kaggle competitions download -c dogs-vs-cats\n",
        "!unzip -qq dogs-vs-cats.zip\n",
        "!unzip -qq train.zip"
      ]
    },
    {
      "cell_type": "code",
      "execution_count": null,
      "metadata": {
        "id": "3RTyR4S5hcGW"
      },
      "outputs": [],
      "source": [
        "#8.6 Copying images to training, validation, and test directories\n",
        "import os, shutil, pathlib\n",
        "\n",
        "original_dir = pathlib.Path(\"train\")\n",
        "new_base_dir = pathlib.Path(\"cats_vs_dogs_small\")\n",
        "\n",
        "def make_subset(subset_name, start_index, end_index):\n",
        "  for category in (\"cat\", \"dog\"):\n",
        "    dir = new_base_dir / subset_name / category\n",
        "    os.makedirs(dir)\n",
        "    fnames = [f\"{category}.{i}.jpg\" for i in range(start_index, end_index)]\n",
        "    for fname in fnames:\n",
        "      shutil.copyfile(src = original_dir / fname, dst = dir / fname)\n",
        "\n",
        "make_subset(\"train\", start_index = 0, end_index = 1000)\n",
        "make_subset(\"validation\", start_index = 1000, end_index = 1500)\n",
        "make_subset(\"test\", start_index = 1500, end_index = 2500)"
      ]
    },
    {
      "cell_type": "code",
      "execution_count": null,
      "metadata": {
        "id": "p48SI4JphhVe",
        "colab": {
          "base_uri": "https://localhost:8080/"
        },
        "outputId": "e738f654-0af1-4cc3-f566-3958a1861e3a"
      },
      "outputs": [
        {
          "output_type": "stream",
          "name": "stdout",
          "text": [
            "Found 2000 files belonging to 2 classes.\n",
            "Found 1000 files belonging to 2 classes.\n",
            "Found 2000 files belonging to 2 classes.\n"
          ]
        }
      ],
      "source": [
        "# 8.9 - Using image_dataset_from_directory to read images\n",
        "from tensorflow.keras.utils import image_dataset_from_directory\n",
        "\n",
        "train_dataset = image_dataset_from_directory(\n",
        "    new_base_dir / \"train\",\n",
        "    image_size = (180, 180),\n",
        "    batch_size = 32\n",
        ")\n",
        "validation_dataset = image_dataset_from_directory(\n",
        "    new_base_dir / \"validation\",\n",
        "    image_size = (180, 180),\n",
        "    batch_size = 32\n",
        ")\n",
        "test_dataset = image_dataset_from_directory(\n",
        "    new_base_dir / \"test\",\n",
        "    image_size = (180, 180),\n",
        "    batch_size = 32\n",
        ")"
      ]
    },
    {
      "cell_type": "code",
      "execution_count": null,
      "metadata": {
        "id": "_cqEdA1ohvnW"
      },
      "outputs": [],
      "source": [
        "from tensorflow import keras\n",
        "from tensorflow.keras import layers"
      ]
    },
    {
      "cell_type": "markdown",
      "metadata": {
        "id": "hESaZn-LFXQr"
      },
      "source": [
        "##Another Take on Pretrained CNNs (VGC16)"
      ]
    },
    {
      "cell_type": "markdown",
      "metadata": {
        "id": "kBPgDz0pKuGD"
      },
      "source": [
        "## Leveraging a pretrained model"
      ]
    },
    {
      "cell_type": "markdown",
      "metadata": {
        "id": "ixCTyDdAFHni"
      },
      "source": [
        "### Feature extraction with a pretrained model"
      ]
    },
    {
      "cell_type": "markdown",
      "metadata": {
        "id": "vb8eFhJYFHni"
      },
      "source": [
        "**Instantiating the VGG16 convolutional base**"
      ]
    },
    {
      "cell_type": "code",
      "execution_count": null,
      "metadata": {
        "id": "GYB53WeTFHni",
        "colab": {
          "base_uri": "https://localhost:8080/"
        },
        "outputId": "87fa3558-61cf-4b72-eb62-6106fe733378"
      },
      "outputs": [
        {
          "output_type": "stream",
          "name": "stdout",
          "text": [
            "Downloading data from https://storage.googleapis.com/tensorflow/keras-applications/vgg16/vgg16_weights_tf_dim_ordering_tf_kernels_notop.h5\n",
            "58889256/58889256 [==============================] - 0s 0us/step\n"
          ]
        }
      ],
      "source": [
        "conv_base = keras.applications.vgg16.VGG16(\n",
        "    weights=\"imagenet\",\n",
        "    include_top=False,\n",
        "    input_shape=(180, 180, 3))"
      ]
    },
    {
      "cell_type": "code",
      "execution_count": null,
      "metadata": {
        "id": "Tkt2fEtVKugg",
        "colab": {
          "base_uri": "https://localhost:8080/"
        },
        "outputId": "05b6eac8-cd20-43f1-8482-4a57282a49d7"
      },
      "outputs": [
        {
          "output_type": "stream",
          "name": "stdout",
          "text": [
            "Model: \"vgg16\"\n",
            "_________________________________________________________________\n",
            " Layer (type)                Output Shape              Param #   \n",
            "=================================================================\n",
            " input_1 (InputLayer)        [(None, 180, 180, 3)]     0         \n",
            "                                                                 \n",
            " block1_conv1 (Conv2D)       (None, 180, 180, 64)      1792      \n",
            "                                                                 \n",
            " block1_conv2 (Conv2D)       (None, 180, 180, 64)      36928     \n",
            "                                                                 \n",
            " block1_pool (MaxPooling2D)  (None, 90, 90, 64)        0         \n",
            "                                                                 \n",
            " block2_conv1 (Conv2D)       (None, 90, 90, 128)       73856     \n",
            "                                                                 \n",
            " block2_conv2 (Conv2D)       (None, 90, 90, 128)       147584    \n",
            "                                                                 \n",
            " block2_pool (MaxPooling2D)  (None, 45, 45, 128)       0         \n",
            "                                                                 \n",
            " block3_conv1 (Conv2D)       (None, 45, 45, 256)       295168    \n",
            "                                                                 \n",
            " block3_conv2 (Conv2D)       (None, 45, 45, 256)       590080    \n",
            "                                                                 \n",
            " block3_conv3 (Conv2D)       (None, 45, 45, 256)       590080    \n",
            "                                                                 \n",
            " block3_pool (MaxPooling2D)  (None, 22, 22, 256)       0         \n",
            "                                                                 \n",
            " block4_conv1 (Conv2D)       (None, 22, 22, 512)       1180160   \n",
            "                                                                 \n",
            " block4_conv2 (Conv2D)       (None, 22, 22, 512)       2359808   \n",
            "                                                                 \n",
            " block4_conv3 (Conv2D)       (None, 22, 22, 512)       2359808   \n",
            "                                                                 \n",
            " block4_pool (MaxPooling2D)  (None, 11, 11, 512)       0         \n",
            "                                                                 \n",
            " block5_conv1 (Conv2D)       (None, 11, 11, 512)       2359808   \n",
            "                                                                 \n",
            " block5_conv2 (Conv2D)       (None, 11, 11, 512)       2359808   \n",
            "                                                                 \n",
            " block5_conv3 (Conv2D)       (None, 11, 11, 512)       2359808   \n",
            "                                                                 \n",
            " block5_pool (MaxPooling2D)  (None, 5, 5, 512)         0         \n",
            "                                                                 \n",
            "=================================================================\n",
            "Total params: 14,714,688\n",
            "Trainable params: 14,714,688\n",
            "Non-trainable params: 0\n",
            "_________________________________________________________________\n"
          ]
        }
      ],
      "source": [
        "conv_base.summary()"
      ]
    },
    {
      "cell_type": "markdown",
      "metadata": {
        "id": "IVeTCeD4FHni"
      },
      "source": [
        "#### Fast feature extraction without data augmentation"
      ]
    },
    {
      "cell_type": "markdown",
      "metadata": {
        "id": "YMGCU9VdFHni"
      },
      "source": [
        "**Extracting the VGG16 features and corresponding labels**"
      ]
    },
    {
      "cell_type": "code",
      "execution_count": null,
      "metadata": {
        "id": "BmyiOgdCFHni",
        "colab": {
          "base_uri": "https://localhost:8080/"
        },
        "outputId": "8d8cff38-df8f-4bff-8454-946dc49c37f4"
      },
      "outputs": [
        {
          "output_type": "stream",
          "name": "stdout",
          "text": [
            "1/1 [==============================] - 10s 10s/step\n",
            "1/1 [==============================] - 0s 41ms/step\n",
            "1/1 [==============================] - 0s 41ms/step\n",
            "1/1 [==============================] - 0s 40ms/step\n",
            "1/1 [==============================] - 0s 41ms/step\n",
            "1/1 [==============================] - 0s 41ms/step\n",
            "1/1 [==============================] - 0s 42ms/step\n",
            "1/1 [==============================] - 0s 32ms/step\n",
            "1/1 [==============================] - 0s 32ms/step\n",
            "1/1 [==============================] - 0s 28ms/step\n",
            "1/1 [==============================] - 0s 30ms/step\n",
            "1/1 [==============================] - 0s 26ms/step\n",
            "1/1 [==============================] - 0s 30ms/step\n",
            "1/1 [==============================] - 0s 34ms/step\n",
            "1/1 [==============================] - 0s 30ms/step\n",
            "1/1 [==============================] - 0s 26ms/step\n",
            "1/1 [==============================] - 0s 29ms/step\n",
            "1/1 [==============================] - 0s 23ms/step\n",
            "1/1 [==============================] - 0s 27ms/step\n",
            "1/1 [==============================] - 0s 30ms/step\n",
            "1/1 [==============================] - 0s 25ms/step\n",
            "1/1 [==============================] - 0s 30ms/step\n",
            "1/1 [==============================] - 0s 24ms/step\n",
            "1/1 [==============================] - 0s 27ms/step\n",
            "1/1 [==============================] - 0s 29ms/step\n",
            "1/1 [==============================] - 0s 24ms/step\n",
            "1/1 [==============================] - 0s 26ms/step\n",
            "1/1 [==============================] - 0s 24ms/step\n",
            "1/1 [==============================] - 0s 30ms/step\n",
            "1/1 [==============================] - 0s 27ms/step\n",
            "1/1 [==============================] - 0s 30ms/step\n",
            "1/1 [==============================] - 0s 34ms/step\n",
            "1/1 [==============================] - 0s 22ms/step\n",
            "1/1 [==============================] - 0s 22ms/step\n",
            "1/1 [==============================] - 0s 23ms/step\n",
            "1/1 [==============================] - 0s 25ms/step\n",
            "1/1 [==============================] - 0s 28ms/step\n",
            "1/1 [==============================] - 0s 28ms/step\n",
            "1/1 [==============================] - 0s 28ms/step\n",
            "1/1 [==============================] - 0s 24ms/step\n",
            "1/1 [==============================] - 0s 30ms/step\n",
            "1/1 [==============================] - 0s 25ms/step\n",
            "1/1 [==============================] - 0s 22ms/step\n",
            "1/1 [==============================] - 0s 27ms/step\n",
            "1/1 [==============================] - 0s 22ms/step\n",
            "1/1 [==============================] - 0s 22ms/step\n",
            "1/1 [==============================] - 0s 22ms/step\n",
            "1/1 [==============================] - 0s 24ms/step\n",
            "1/1 [==============================] - 0s 25ms/step\n",
            "1/1 [==============================] - 0s 44ms/step\n",
            "1/1 [==============================] - 0s 24ms/step\n",
            "1/1 [==============================] - 0s 27ms/step\n",
            "1/1 [==============================] - 0s 24ms/step\n",
            "1/1 [==============================] - 0s 26ms/step\n",
            "1/1 [==============================] - 0s 22ms/step\n",
            "1/1 [==============================] - 0s 30ms/step\n",
            "1/1 [==============================] - 0s 26ms/step\n",
            "1/1 [==============================] - 0s 26ms/step\n",
            "1/1 [==============================] - 0s 28ms/step\n",
            "1/1 [==============================] - 0s 24ms/step\n",
            "1/1 [==============================] - 0s 23ms/step\n",
            "1/1 [==============================] - 0s 25ms/step\n",
            "1/1 [==============================] - 2s 2s/step\n",
            "1/1 [==============================] - 0s 29ms/step\n",
            "1/1 [==============================] - 0s 45ms/step\n",
            "1/1 [==============================] - 0s 30ms/step\n",
            "1/1 [==============================] - 0s 30ms/step\n",
            "1/1 [==============================] - 0s 25ms/step\n",
            "1/1 [==============================] - 0s 26ms/step\n",
            "1/1 [==============================] - 0s 30ms/step\n",
            "1/1 [==============================] - 0s 27ms/step\n",
            "1/1 [==============================] - 0s 26ms/step\n",
            "1/1 [==============================] - 0s 26ms/step\n",
            "1/1 [==============================] - 0s 31ms/step\n",
            "1/1 [==============================] - 0s 25ms/step\n",
            "1/1 [==============================] - 0s 32ms/step\n",
            "1/1 [==============================] - 0s 23ms/step\n",
            "1/1 [==============================] - 0s 32ms/step\n",
            "1/1 [==============================] - 0s 34ms/step\n",
            "1/1 [==============================] - 0s 23ms/step\n",
            "1/1 [==============================] - 0s 25ms/step\n",
            "1/1 [==============================] - 0s 28ms/step\n",
            "1/1 [==============================] - 0s 23ms/step\n",
            "1/1 [==============================] - 0s 27ms/step\n",
            "1/1 [==============================] - 0s 26ms/step\n",
            "1/1 [==============================] - 0s 24ms/step\n",
            "1/1 [==============================] - 0s 25ms/step\n",
            "1/1 [==============================] - 0s 39ms/step\n",
            "1/1 [==============================] - 0s 40ms/step\n",
            "1/1 [==============================] - 0s 31ms/step\n",
            "1/1 [==============================] - 0s 44ms/step\n",
            "1/1 [==============================] - 0s 38ms/step\n",
            "1/1 [==============================] - 0s 35ms/step\n",
            "1/1 [==============================] - 0s 37ms/step\n",
            "1/1 [==============================] - 1s 1s/step\n",
            "1/1 [==============================] - 0s 28ms/step\n",
            "1/1 [==============================] - 0s 29ms/step\n",
            "1/1 [==============================] - 0s 29ms/step\n",
            "1/1 [==============================] - 0s 29ms/step\n",
            "1/1 [==============================] - 0s 30ms/step\n",
            "1/1 [==============================] - 0s 28ms/step\n",
            "1/1 [==============================] - 0s 26ms/step\n",
            "1/1 [==============================] - 0s 28ms/step\n",
            "1/1 [==============================] - 0s 26ms/step\n",
            "1/1 [==============================] - 0s 25ms/step\n",
            "1/1 [==============================] - 0s 24ms/step\n",
            "1/1 [==============================] - 0s 27ms/step\n",
            "1/1 [==============================] - 0s 23ms/step\n",
            "1/1 [==============================] - 0s 22ms/step\n",
            "1/1 [==============================] - 0s 29ms/step\n",
            "1/1 [==============================] - 0s 22ms/step\n",
            "1/1 [==============================] - 0s 27ms/step\n",
            "1/1 [==============================] - 0s 24ms/step\n",
            "1/1 [==============================] - 0s 26ms/step\n",
            "1/1 [==============================] - 0s 25ms/step\n",
            "1/1 [==============================] - 0s 35ms/step\n",
            "1/1 [==============================] - 0s 27ms/step\n",
            "1/1 [==============================] - 0s 25ms/step\n",
            "1/1 [==============================] - 0s 23ms/step\n",
            "1/1 [==============================] - 0s 22ms/step\n",
            "1/1 [==============================] - 0s 34ms/step\n",
            "1/1 [==============================] - 0s 27ms/step\n",
            "1/1 [==============================] - 0s 23ms/step\n",
            "1/1 [==============================] - 0s 24ms/step\n",
            "1/1 [==============================] - 0s 25ms/step\n",
            "1/1 [==============================] - 0s 24ms/step\n",
            "1/1 [==============================] - 0s 26ms/step\n",
            "1/1 [==============================] - 0s 23ms/step\n",
            "1/1 [==============================] - 0s 32ms/step\n",
            "1/1 [==============================] - 0s 25ms/step\n",
            "1/1 [==============================] - 0s 23ms/step\n",
            "1/1 [==============================] - 0s 24ms/step\n",
            "1/1 [==============================] - 0s 30ms/step\n",
            "1/1 [==============================] - 0s 29ms/step\n",
            "1/1 [==============================] - 0s 25ms/step\n",
            "1/1 [==============================] - 0s 26ms/step\n",
            "1/1 [==============================] - 0s 27ms/step\n",
            "1/1 [==============================] - 0s 25ms/step\n",
            "1/1 [==============================] - 0s 33ms/step\n",
            "1/1 [==============================] - 0s 23ms/step\n",
            "1/1 [==============================] - 0s 28ms/step\n",
            "1/1 [==============================] - 0s 30ms/step\n",
            "1/1 [==============================] - 0s 30ms/step\n",
            "1/1 [==============================] - 0s 34ms/step\n",
            "1/1 [==============================] - 0s 24ms/step\n",
            "1/1 [==============================] - 0s 29ms/step\n",
            "1/1 [==============================] - 0s 27ms/step\n",
            "1/1 [==============================] - 0s 25ms/step\n",
            "1/1 [==============================] - 0s 24ms/step\n",
            "1/1 [==============================] - 0s 26ms/step\n",
            "1/1 [==============================] - 0s 36ms/step\n",
            "1/1 [==============================] - 0s 43ms/step\n",
            "1/1 [==============================] - 0s 43ms/step\n",
            "1/1 [==============================] - 0s 39ms/step\n",
            "1/1 [==============================] - 0s 38ms/step\n",
            "1/1 [==============================] - 0s 52ms/step\n",
            "1/1 [==============================] - 0s 36ms/step\n",
            "1/1 [==============================] - 0s 33ms/step\n"
          ]
        }
      ],
      "source": [
        "import numpy as np\n",
        "\n",
        "def get_features_and_labels(dataset):\n",
        "    all_features = []\n",
        "    all_labels = []\n",
        "    for images, labels in dataset:\n",
        "        preprocessed_images = keras.applications.vgg16.preprocess_input(images)\n",
        "        features = conv_base.predict(preprocessed_images)\n",
        "        all_features.append(features)\n",
        "        all_labels.append(labels)\n",
        "    return np.concatenate(all_features), np.concatenate(all_labels)\n",
        "\n",
        "train_features, train_labels =  get_features_and_labels(train_dataset)\n",
        "val_features, val_labels =  get_features_and_labels(validation_dataset)\n",
        "test_features, test_labels =  get_features_and_labels(test_dataset)"
      ]
    },
    {
      "cell_type": "code",
      "execution_count": null,
      "metadata": {
        "id": "PTAfliLhUvVB",
        "colab": {
          "base_uri": "https://localhost:8080/"
        },
        "outputId": "fa4fbd7d-2133-449b-f380-b07b95f8d3bf"
      },
      "outputs": [
        {
          "output_type": "execute_result",
          "data": {
            "text/plain": [
              "(2000, 5, 5, 512)"
            ]
          },
          "metadata": {},
          "execution_count": 10
        }
      ],
      "source": [
        "train_features.shape"
      ]
    },
    {
      "cell_type": "markdown",
      "metadata": {
        "id": "UavNpR4PFHni"
      },
      "source": [
        "**Defining and training the densely connected classifier**"
      ]
    },
    {
      "cell_type": "code",
      "execution_count": null,
      "metadata": {
        "id": "jWd5_unyFHni",
        "colab": {
          "base_uri": "https://localhost:8080/"
        },
        "outputId": "2e9c0727-35ca-4093-e013-6abe2fe587c2"
      },
      "outputs": [
        {
          "output_type": "stream",
          "name": "stdout",
          "text": [
            "Epoch 1/20\n",
            "63/63 [==============================] - 3s 11ms/step - loss: 14.4354 - accuracy: 0.9230 - val_loss: 3.5045 - val_accuracy: 0.9710\n",
            "Epoch 2/20\n",
            "63/63 [==============================] - 0s 5ms/step - loss: 4.7178 - accuracy: 0.9660 - val_loss: 4.3385 - val_accuracy: 0.9680\n",
            "Epoch 3/20\n",
            "63/63 [==============================] - 0s 7ms/step - loss: 2.0754 - accuracy: 0.9850 - val_loss: 3.2608 - val_accuracy: 0.9670\n",
            "Epoch 4/20\n",
            "63/63 [==============================] - 0s 5ms/step - loss: 1.1525 - accuracy: 0.9890 - val_loss: 4.1641 - val_accuracy: 0.9840\n",
            "Epoch 5/20\n",
            "63/63 [==============================] - 0s 6ms/step - loss: 0.7340 - accuracy: 0.9925 - val_loss: 6.3123 - val_accuracy: 0.9720\n",
            "Epoch 6/20\n",
            "63/63 [==============================] - 0s 6ms/step - loss: 0.7310 - accuracy: 0.9930 - val_loss: 4.3006 - val_accuracy: 0.9800\n",
            "Epoch 7/20\n",
            "63/63 [==============================] - 0s 5ms/step - loss: 0.5892 - accuracy: 0.9960 - val_loss: 4.4955 - val_accuracy: 0.9770\n",
            "Epoch 8/20\n",
            "63/63 [==============================] - 0s 5ms/step - loss: 0.0000e+00 - accuracy: 1.0000 - val_loss: 4.4955 - val_accuracy: 0.9770\n",
            "Epoch 9/20\n",
            "63/63 [==============================] - 0s 6ms/step - loss: 0.2219 - accuracy: 0.9980 - val_loss: 6.2389 - val_accuracy: 0.9650\n",
            "Epoch 10/20\n",
            "63/63 [==============================] - 0s 5ms/step - loss: 0.2154 - accuracy: 0.9985 - val_loss: 6.3180 - val_accuracy: 0.9720\n",
            "Epoch 11/20\n",
            "63/63 [==============================] - 0s 5ms/step - loss: 0.5133 - accuracy: 0.9945 - val_loss: 6.4592 - val_accuracy: 0.9710\n",
            "Epoch 12/20\n",
            "63/63 [==============================] - 0s 6ms/step - loss: 0.2362 - accuracy: 0.9970 - val_loss: 5.2870 - val_accuracy: 0.9780\n",
            "Epoch 13/20\n",
            "63/63 [==============================] - 0s 5ms/step - loss: 0.0704 - accuracy: 0.9990 - val_loss: 4.7081 - val_accuracy: 0.9820\n",
            "Epoch 14/20\n",
            "63/63 [==============================] - 0s 6ms/step - loss: 0.1044 - accuracy: 0.9990 - val_loss: 5.0581 - val_accuracy: 0.9770\n",
            "Epoch 15/20\n",
            "63/63 [==============================] - 0s 6ms/step - loss: 0.1769 - accuracy: 0.9960 - val_loss: 5.4358 - val_accuracy: 0.9760\n",
            "Epoch 16/20\n",
            "63/63 [==============================] - 0s 6ms/step - loss: 0.3184 - accuracy: 0.9980 - val_loss: 5.0341 - val_accuracy: 0.9800\n",
            "Epoch 17/20\n",
            "63/63 [==============================] - 0s 6ms/step - loss: 0.1204 - accuracy: 0.9980 - val_loss: 5.6864 - val_accuracy: 0.9770\n",
            "Epoch 18/20\n",
            "63/63 [==============================] - 0s 5ms/step - loss: 0.2009 - accuracy: 0.9990 - val_loss: 5.3918 - val_accuracy: 0.9790\n",
            "Epoch 19/20\n",
            "63/63 [==============================] - 0s 5ms/step - loss: 2.2153e-05 - accuracy: 1.0000 - val_loss: 6.6483 - val_accuracy: 0.9740\n",
            "Epoch 20/20\n",
            "63/63 [==============================] - 0s 6ms/step - loss: 0.1270 - accuracy: 0.9975 - val_loss: 5.1502 - val_accuracy: 0.9780\n"
          ]
        }
      ],
      "source": [
        "inputs = keras.Input(shape=(5, 5, 512))\n",
        "x = layers.Flatten()(inputs)\n",
        "x = layers.Dense(256)(x)\n",
        "x = layers.Dropout(0.5)(x)\n",
        "outputs = layers.Dense(1, activation=\"sigmoid\")(x)\n",
        "model = keras.Model(inputs, outputs)\n",
        "model.compile(loss=\"binary_crossentropy\",\n",
        "              optimizer=\"rmsprop\",\n",
        "              metrics=[\"accuracy\"])\n",
        "\n",
        "callbacks = [\n",
        "    keras.callbacks.ModelCheckpoint(\n",
        "      filepath=\"feature_extraction.keras\",\n",
        "      save_best_only=True,\n",
        "      monitor=\"val_loss\")\n",
        "]\n",
        "history = model.fit(\n",
        "    train_features, train_labels,\n",
        "    epochs=20,\n",
        "    validation_data=(val_features, val_labels),\n",
        "    callbacks=callbacks)"
      ]
    },
    {
      "cell_type": "markdown",
      "metadata": {
        "id": "zgBk8jrTFHni"
      },
      "source": [
        "**Plotting the results**"
      ]
    },
    {
      "cell_type": "code",
      "execution_count": null,
      "metadata": {
        "id": "6K_IVpeIFHni",
        "colab": {
          "base_uri": "https://localhost:8080/",
          "height": 887
        },
        "outputId": "f3913388-642d-482f-8d17-33d8effbc7d0"
      },
      "outputs": [
        {
          "output_type": "display_data",
          "data": {
            "text/plain": [
              "<Figure size 640x480 with 1 Axes>"
            ],
            "image/png": "[encoded data removed]"
          },
          "metadata": {}
        },
        {
          "output_type": "display_data",
          "data": {
            "text/plain": [
              "<Figure size 640x480 with 1 Axes>"
            ],
            "image/png": "[encoded data removed]"
          },
          "metadata": {}
        }
      ],
      "source": [
        "import matplotlib.pyplot as plt\n",
        "acc = history.history[\"accuracy\"]\n",
        "val_acc = history.history[\"val_accuracy\"]\n",
        "loss = history.history[\"loss\"]\n",
        "val_loss = history.history[\"val_loss\"]\n",
        "epochs = range(1, len(acc) + 1)\n",
        "plt.plot(epochs, acc, \"bo\", label=\"Training accuracy\")\n",
        "plt.plot(epochs, val_acc, \"b\", label=\"Validation accuracy\")\n",
        "plt.title(\"Training and validation accuracy\")\n",
        "plt.legend()\n",
        "plt.figure()\n",
        "plt.plot(epochs, loss, \"bo\", label=\"Training loss\")\n",
        "plt.plot(epochs, val_loss, \"b\", label=\"Validation loss\")\n",
        "plt.title(\"Training and validation loss\")\n",
        "plt.legend()\n",
        "plt.show()"
      ]
    },
    {
      "cell_type": "markdown",
      "metadata": {
        "id": "epKy8YcSFHni"
      },
      "source": [
        "#### Feature extraction together with data augmentation"
      ]
    },
    {
      "cell_type": "markdown",
      "metadata": {
        "id": "IlCtUYZCFHni"
      },
      "source": [
        "**Instantiating and freezing the VGG16 convolutional base**"
      ]
    },
    {
      "cell_type": "code",
      "execution_count": null,
      "metadata": {
        "id": "e_6ZvXUJFHni"
      },
      "outputs": [],
      "source": [
        "conv_base  = keras.applications.vgg16.VGG16(\n",
        "    weights=\"imagenet\",\n",
        "    include_top=False)\n",
        "conv_base.trainable = False"
      ]
    },
    {
      "cell_type": "markdown",
      "metadata": {
        "id": "uhYPZf96FHni"
      },
      "source": [
        "**Printing the list of trainable weights before and after freezing**"
      ]
    },
    {
      "cell_type": "code",
      "execution_count": null,
      "metadata": {
        "id": "fc_zVNXnFHni",
        "colab": {
          "base_uri": "https://localhost:8080/"
        },
        "outputId": "fde498c5-6a04-46d1-e6b3-62fa330ea12a"
      },
      "outputs": [
        {
          "output_type": "stream",
          "name": "stdout",
          "text": [
            "This is the number of trainable weights before freezing the conv base: 26\n"
          ]
        }
      ],
      "source": [
        "conv_base.trainable = True\n",
        "print(\"This is the number of trainable weights \"\n",
        "      \"before freezing the conv base:\", len(conv_base.trainable_weights))"
      ]
    },
    {
      "cell_type": "code",
      "execution_count": null,
      "metadata": {
        "id": "7uzs6LyDXNdG",
        "colab": {
          "base_uri": "https://localhost:8080/"
        },
        "outputId": "c14dc089-ae64-416f-8a83-e5912d0f7236"
      },
      "outputs": [
        {
          "output_type": "stream",
          "name": "stdout",
          "text": [
            "This is the number of trainable weights after freezing the conv base: 0\n"
          ]
        }
      ],
      "source": [
        "conv_base.trainable = False\n",
        "print(\"This is the number of trainable weights \"\n",
        "      \"after freezing the conv base:\", len(conv_base.trainable_weights))"
      ]
    },
    {
      "cell_type": "markdown",
      "metadata": {
        "id": "VGaOkiu2FHni"
      },
      "source": [
        "**Adding a data augmentation stage and a classifier to the convolutional base**"
      ]
    },
    {
      "cell_type": "code",
      "execution_count": null,
      "metadata": {
        "id": "08yacyxVFHni"
      },
      "outputs": [],
      "source": [
        "data_augmentation = keras.Sequential(\n",
        "    [\n",
        "        layers.RandomFlip(\"horizontal\"),\n",
        "        layers.RandomRotation(0.1),\n",
        "        layers.RandomZoom(0.2),\n",
        "    ]\n",
        ")\n",
        "\n",
        "inputs = keras.Input(shape=(180, 180, 3))\n",
        "x = data_augmentation(inputs)\n",
        "x = keras.applications.vgg16.preprocess_input(x)\n",
        "x = conv_base(x)\n",
        "x = layers.Flatten()(x)\n",
        "x = layers.Dense(256)(x)\n",
        "x = layers.Dropout(0.5)(x)\n",
        "outputs = layers.Dense(1, activation=\"sigmoid\")(x)\n",
        "model = keras.Model(inputs, outputs)\n",
        "model.compile(loss=\"binary_crossentropy\",\n",
        "              optimizer=\"rmsprop\",\n",
        "              metrics=[\"accuracy\"])"
      ]
    },
    {
      "cell_type": "code",
      "execution_count": null,
      "metadata": {
        "id": "0PXNueWQFHni",
        "colab": {
          "base_uri": "https://localhost:8080/"
        },
        "outputId": "50eeeb8d-ed64-47db-c879-23767cdbfee1"
      },
      "outputs": [
        {
          "output_type": "stream",
          "name": "stdout",
          "text": [
            "Epoch 1/50\n",
            "63/63 [==============================] - 13s 181ms/step - loss: 16.5460 - accuracy: 0.8975 - val_loss: 12.8970 - val_accuracy: 0.9270\n",
            "Epoch 2/50\n",
            "63/63 [==============================] - 10s 147ms/step - loss: 9.4440 - accuracy: 0.9375 - val_loss: 3.8498 - val_accuracy: 0.9730\n",
            "Epoch 3/50\n",
            "63/63 [==============================] - 9s 145ms/step - loss: 5.9581 - accuracy: 0.9555 - val_loss: 4.7355 - val_accuracy: 0.9730\n",
            "Epoch 4/50\n",
            "63/63 [==============================] - 10s 151ms/step - loss: 5.2352 - accuracy: 0.9530 - val_loss: 4.3241 - val_accuracy: 0.9770\n",
            "Epoch 5/50\n",
            "63/63 [==============================] - 10s 148ms/step - loss: 4.2255 - accuracy: 0.9635 - val_loss: 17.2977 - val_accuracy: 0.9230\n",
            "Epoch 6/50\n",
            "63/63 [==============================] - 10s 150ms/step - loss: 3.6683 - accuracy: 0.9690 - val_loss: 6.1484 - val_accuracy: 0.9660\n",
            "Epoch 7/50\n",
            "63/63 [==============================] - 10s 155ms/step - loss: 3.9627 - accuracy: 0.9645 - val_loss: 3.4839 - val_accuracy: 0.9780\n",
            "Epoch 8/50\n",
            "63/63 [==============================] - 10s 155ms/step - loss: 3.1368 - accuracy: 0.9710 - val_loss: 4.5128 - val_accuracy: 0.9740\n",
            "Epoch 9/50\n",
            "63/63 [==============================] - 10s 157ms/step - loss: 2.6263 - accuracy: 0.9735 - val_loss: 5.0136 - val_accuracy: 0.9730\n",
            "Epoch 10/50\n",
            "63/63 [==============================] - 10s 162ms/step - loss: 2.1020 - accuracy: 0.9735 - val_loss: 5.2053 - val_accuracy: 0.9630\n",
            "Epoch 11/50\n",
            "63/63 [==============================] - 10s 162ms/step - loss: 1.9950 - accuracy: 0.9760 - val_loss: 4.3529 - val_accuracy: 0.9700\n",
            "Epoch 12/50\n",
            "63/63 [==============================] - 11s 162ms/step - loss: 2.2830 - accuracy: 0.9805 - val_loss: 5.4265 - val_accuracy: 0.9680\n",
            "Epoch 13/50\n",
            "63/63 [==============================] - 10s 160ms/step - loss: 2.1006 - accuracy: 0.9815 - val_loss: 4.0032 - val_accuracy: 0.9760\n",
            "Epoch 14/50\n",
            "63/63 [==============================] - 10s 163ms/step - loss: 2.2767 - accuracy: 0.9795 - val_loss: 2.5680 - val_accuracy: 0.9830\n",
            "Epoch 15/50\n",
            "63/63 [==============================] - 10s 158ms/step - loss: 2.3050 - accuracy: 0.9780 - val_loss: 2.7154 - val_accuracy: 0.9810\n",
            "Epoch 16/50\n",
            "63/63 [==============================] - 10s 161ms/step - loss: 2.4733 - accuracy: 0.9740 - val_loss: 3.9322 - val_accuracy: 0.9780\n",
            "Epoch 17/50\n",
            "63/63 [==============================] - 10s 156ms/step - loss: 2.2400 - accuracy: 0.9750 - val_loss: 3.6060 - val_accuracy: 0.9740\n",
            "Epoch 18/50\n",
            "63/63 [==============================] - 11s 162ms/step - loss: 1.4685 - accuracy: 0.9805 - val_loss: 4.5596 - val_accuracy: 0.9740\n",
            "Epoch 19/50\n",
            "63/63 [==============================] - 11s 171ms/step - loss: 0.8567 - accuracy: 0.9860 - val_loss: 2.2000 - val_accuracy: 0.9830\n",
            "Epoch 20/50\n",
            "63/63 [==============================] - 10s 163ms/step - loss: 0.9628 - accuracy: 0.9845 - val_loss: 3.0588 - val_accuracy: 0.9780\n",
            "Epoch 21/50\n",
            "63/63 [==============================] - 12s 184ms/step - loss: 1.1531 - accuracy: 0.9805 - val_loss: 2.7450 - val_accuracy: 0.9770\n",
            "Epoch 22/50\n",
            "63/63 [==============================] - 10s 162ms/step - loss: 1.7005 - accuracy: 0.9780 - val_loss: 3.1339 - val_accuracy: 0.9740\n",
            "Epoch 23/50\n",
            "63/63 [==============================] - 10s 159ms/step - loss: 1.1634 - accuracy: 0.9805 - val_loss: 2.5308 - val_accuracy: 0.9800\n",
            "Epoch 24/50\n",
            "63/63 [==============================] - 10s 161ms/step - loss: 1.0171 - accuracy: 0.9860 - val_loss: 2.8800 - val_accuracy: 0.9780\n",
            "Epoch 25/50\n",
            "63/63 [==============================] - 10s 161ms/step - loss: 0.9462 - accuracy: 0.9835 - val_loss: 2.4160 - val_accuracy: 0.9840\n",
            "Epoch 26/50\n",
            "63/63 [==============================] - 11s 161ms/step - loss: 0.9197 - accuracy: 0.9830 - val_loss: 2.6781 - val_accuracy: 0.9800\n",
            "Epoch 27/50\n",
            "63/63 [==============================] - 10s 161ms/step - loss: 0.8607 - accuracy: 0.9865 - val_loss: 2.8565 - val_accuracy: 0.9800\n",
            "Epoch 28/50\n",
            "63/63 [==============================] - 10s 164ms/step - loss: 0.6799 - accuracy: 0.9880 - val_loss: 2.5591 - val_accuracy: 0.9790\n",
            "Epoch 29/50\n",
            "63/63 [==============================] - 11s 167ms/step - loss: 0.8808 - accuracy: 0.9825 - val_loss: 2.8963 - val_accuracy: 0.9780\n",
            "Epoch 30/50\n",
            "63/63 [==============================] - 11s 164ms/step - loss: 0.9816 - accuracy: 0.9875 - val_loss: 1.7881 - val_accuracy: 0.9860\n",
            "Epoch 31/50\n",
            "63/63 [==============================] - 10s 163ms/step - loss: 0.7817 - accuracy: 0.9860 - val_loss: 1.7413 - val_accuracy: 0.9830\n",
            "Epoch 32/50\n",
            "63/63 [==============================] - 10s 156ms/step - loss: 0.8352 - accuracy: 0.9875 - val_loss: 1.7942 - val_accuracy: 0.9790\n",
            "Epoch 33/50\n",
            "63/63 [==============================] - 10s 160ms/step - loss: 0.7018 - accuracy: 0.9880 - val_loss: 3.0225 - val_accuracy: 0.9750\n",
            "Epoch 34/50\n",
            "63/63 [==============================] - 11s 170ms/step - loss: 0.8646 - accuracy: 0.9890 - val_loss: 2.0663 - val_accuracy: 0.9780\n",
            "Epoch 35/50\n",
            "63/63 [==============================] - 11s 169ms/step - loss: 0.9132 - accuracy: 0.9845 - val_loss: 1.8240 - val_accuracy: 0.9800\n",
            "Epoch 36/50\n",
            "63/63 [==============================] - 12s 187ms/step - loss: 0.7229 - accuracy: 0.9855 - val_loss: 2.1470 - val_accuracy: 0.9790\n",
            "Epoch 37/50\n",
            "63/63 [==============================] - 10s 155ms/step - loss: 0.9321 - accuracy: 0.9855 - val_loss: 1.8196 - val_accuracy: 0.9820\n",
            "Epoch 38/50\n",
            "63/63 [==============================] - 12s 185ms/step - loss: 0.6225 - accuracy: 0.9885 - val_loss: 2.6262 - val_accuracy: 0.9790\n",
            "Epoch 39/50\n",
            "63/63 [==============================] - 11s 163ms/step - loss: 0.3291 - accuracy: 0.9905 - val_loss: 3.2514 - val_accuracy: 0.9750\n",
            "Epoch 40/50\n",
            "63/63 [==============================] - 10s 162ms/step - loss: 0.6244 - accuracy: 0.9920 - val_loss: 2.5196 - val_accuracy: 0.9770\n",
            "Epoch 41/50\n",
            "63/63 [==============================] - 12s 188ms/step - loss: 0.8118 - accuracy: 0.9850 - val_loss: 2.0361 - val_accuracy: 0.9790\n",
            "Epoch 42/50\n",
            "63/63 [==============================] - 12s 187ms/step - loss: 0.5900 - accuracy: 0.9865 - val_loss: 2.5405 - val_accuracy: 0.9780\n",
            "Epoch 43/50\n",
            "63/63 [==============================] - 10s 157ms/step - loss: 0.6883 - accuracy: 0.9870 - val_loss: 2.2582 - val_accuracy: 0.9810\n",
            "Epoch 44/50\n",
            "63/63 [==============================] - 10s 160ms/step - loss: 0.5270 - accuracy: 0.9880 - val_loss: 2.9588 - val_accuracy: 0.9710\n",
            "Epoch 45/50\n",
            "63/63 [==============================] - 11s 167ms/step - loss: 0.3043 - accuracy: 0.9900 - val_loss: 3.3629 - val_accuracy: 0.9740\n",
            "Epoch 46/50\n",
            "63/63 [==============================] - 12s 184ms/step - loss: 0.3881 - accuracy: 0.9895 - val_loss: 2.0199 - val_accuracy: 0.9760\n",
            "Epoch 47/50\n",
            "63/63 [==============================] - 10s 163ms/step - loss: 0.4555 - accuracy: 0.9920 - val_loss: 2.5040 - val_accuracy: 0.9800\n",
            "Epoch 48/50\n",
            "63/63 [==============================] - 10s 159ms/step - loss: 0.6513 - accuracy: 0.9895 - val_loss: 2.6547 - val_accuracy: 0.9770\n",
            "Epoch 49/50\n",
            "63/63 [==============================] - 10s 162ms/step - loss: 0.3647 - accuracy: 0.9915 - val_loss: 2.6808 - val_accuracy: 0.9770\n",
            "Epoch 50/50\n",
            "63/63 [==============================] - 11s 167ms/step - loss: 0.6384 - accuracy: 0.9910 - val_loss: 2.8098 - val_accuracy: 0.9780\n"
          ]
        }
      ],
      "source": [
        "callbacks = [\n",
        "    keras.callbacks.ModelCheckpoint(\n",
        "        filepath=\"feature_extraction_with_data_augmentation.keras\",\n",
        "        save_best_only=True,\n",
        "        monitor=\"val_loss\")\n",
        "]\n",
        "history = model.fit(\n",
        "    train_dataset,\n",
        "    epochs=50,\n",
        "    validation_data=validation_dataset,\n",
        "    callbacks=callbacks)"
      ]
    },
    {
      "cell_type": "markdown",
      "metadata": {
        "id": "Hn0Cadw2bD8T"
      },
      "source": [
        "**Plotting the results**\n",
        "\n"
      ]
    },
    {
      "cell_type": "code",
      "execution_count": null,
      "metadata": {
        "id": "zBMIJf14bLRW",
        "colab": {
          "base_uri": "https://localhost:8080/",
          "height": 887
        },
        "outputId": "f38ab810-c4fa-40ff-a262-69a3e77ce837"
      },
      "outputs": [
        {
          "output_type": "display_data",
          "data": {
            "text/plain": [
              "<Figure size 640x480 with 1 Axes>"
            ],
            "image/png": "[encoded data removed]"
          },
          "metadata": {}
        },
        {
          "output_type": "display_data",
          "data": {
            "text/plain": [
              "<Figure size 640x480 with 1 Axes>"
            ],
            "image/png": "[encoded data removed]"
          },
          "metadata": {}
        }
      ],
      "source": [
        "acc = history.history[\"accuracy\"]\n",
        "val_acc = history.history[\"val_accuracy\"]\n",
        "loss = history.history[\"loss\"]\n",
        "val_loss = history.history[\"val_loss\"]\n",
        "epochs = range(1, len(acc) + 1)\n",
        "plt.plot(epochs, acc, \"bo\", label=\"Training accuracy\")\n",
        "plt.plot(epochs, val_acc, \"b\", label=\"Validation accuracy\")\n",
        "plt.title(\"Training and validation accuracy\")\n",
        "plt.legend()\n",
        "plt.figure()\n",
        "plt.plot(epochs, loss, \"bo\", label=\"Training loss\")\n",
        "plt.plot(epochs, val_loss, \"b\", label=\"Validation loss\")\n",
        "plt.title(\"Training and validation loss\")\n",
        "plt.legend()\n",
        "plt.show()"
      ]
    },
    {
      "cell_type": "code",
      "execution_count": null,
      "metadata": {
        "id": "Ozu-b6jVYMqA",
        "colab": {
          "base_uri": "https://localhost:8080/"
        },
        "outputId": "177ea936-309f-4034-95c3-16d4c73461ca"
      },
      "outputs": [
        {
          "output_type": "stream",
          "name": "stdout",
          "text": [
            "63/63 [==============================] - 7s 102ms/step - loss: 2.4583 - accuracy: 0.9745\n",
            "Test accuracy: 0.975\n"
          ]
        }
      ],
      "source": [
        "test_model = keras.models.load_model(\n",
        "    \"feature_extraction_with_data_augmentation.keras\")\n",
        "test_loss, test_acc = test_model.evaluate(test_dataset)\n",
        "print(f\"Test accuracy: {test_acc:.3f}\")"
      ]
    },
    {
      "cell_type": "markdown",
      "source": [
        "**The final test accuracy with data augmentation is 97.45 %**"
      ],
      "metadata": {
        "id": "eZaTb_6liz96"
      }
    },
    {
      "cell_type": "markdown",
      "metadata": {
        "id": "n764zV-xFHnj"
      },
      "source": [
        "### Fine-tuning a pretrained model"
      ]
    },
    {
      "cell_type": "code",
      "execution_count": null,
      "metadata": {
        "id": "Ufl-UY_1FHnj",
        "colab": {
          "base_uri": "https://localhost:8080/"
        },
        "outputId": "53273467-59fb-4198-9952-1d1546904975"
      },
      "outputs": [
        {
          "output_type": "stream",
          "name": "stdout",
          "text": [
            "Model: \"vgg16\"\n",
            "_________________________________________________________________\n",
            " Layer (type)                Output Shape              Param #   \n",
            "=================================================================\n",
            " input_3 (InputLayer)        [(None, None, None, 3)]   0         \n",
            "                                                                 \n",
            " block1_conv1 (Conv2D)       (None, None, None, 64)    1792      \n",
            "                                                                 \n",
            " block1_conv2 (Conv2D)       (None, None, None, 64)    36928     \n",
            "                                                                 \n",
            " block1_pool (MaxPooling2D)  (None, None, None, 64)    0         \n",
            "                                                                 \n",
            " block2_conv1 (Conv2D)       (None, None, None, 128)   73856     \n",
            "                                                                 \n",
            " block2_conv2 (Conv2D)       (None, None, None, 128)   147584    \n",
            "                                                                 \n",
            " block2_pool (MaxPooling2D)  (None, None, None, 128)   0         \n",
            "                                                                 \n",
            " block3_conv1 (Conv2D)       (None, None, None, 256)   295168    \n",
            "                                                                 \n",
            " block3_conv2 (Conv2D)       (None, None, None, 256)   590080    \n",
            "                                                                 \n",
            " block3_conv3 (Conv2D)       (None, None, None, 256)   590080    \n",
            "                                                                 \n",
            " block3_pool (MaxPooling2D)  (None, None, None, 256)   0         \n",
            "                                                                 \n",
            " block4_conv1 (Conv2D)       (None, None, None, 512)   1180160   \n",
            "                                                                 \n",
            " block4_conv2 (Conv2D)       (None, None, None, 512)   2359808   \n",
            "                                                                 \n",
            " block4_conv3 (Conv2D)       (None, None, None, 512)   2359808   \n",
            "                                                                 \n",
            " block4_pool (MaxPooling2D)  (None, None, None, 512)   0         \n",
            "                                                                 \n",
            " block5_conv1 (Conv2D)       (None, None, None, 512)   2359808   \n",
            "                                                                 \n",
            " block5_conv2 (Conv2D)       (None, None, None, 512)   2359808   \n",
            "                                                                 \n",
            " block5_conv3 (Conv2D)       (None, None, None, 512)   2359808   \n",
            "                                                                 \n",
            " block5_pool (MaxPooling2D)  (None, None, None, 512)   0         \n",
            "                                                                 \n",
            "=================================================================\n",
            "Total params: 14,714,688\n",
            "Trainable params: 0\n",
            "Non-trainable params: 14,714,688\n",
            "_________________________________________________________________\n"
          ]
        }
      ],
      "source": [
        "conv_base.summary()"
      ]
    },
    {
      "cell_type": "markdown",
      "metadata": {
        "id": "OYmbJnHAFHnj"
      },
      "source": [
        "**Freezing all layers until the fourth from the last**"
      ]
    },
    {
      "cell_type": "code",
      "execution_count": null,
      "metadata": {
        "id": "mABPprACFHnj"
      },
      "outputs": [],
      "source": [
        "conv_base.trainable = True\n",
        "for layer in conv_base.layers[:-4]:\n",
        "    layer.trainable = False"
      ]
    },
    {
      "cell_type": "markdown",
      "metadata": {
        "id": "tyX6et9PFHnj"
      },
      "source": [
        "**Fine-tuning the model**"
      ]
    },
    {
      "cell_type": "code",
      "execution_count": null,
      "metadata": {
        "id": "ulW75wY3FHnj",
        "colab": {
          "base_uri": "https://localhost:8080/"
        },
        "outputId": "84dc0ce3-721d-4a0e-ceb9-df10834f6d18"
      },
      "outputs": [
        {
          "output_type": "stream",
          "name": "stdout",
          "text": [
            "Epoch 1/30\n",
            "63/63 [==============================] - 16s 189ms/step - loss: 0.3185 - accuracy: 0.9935 - val_loss: 2.7171 - val_accuracy: 0.9770\n",
            "Epoch 2/30\n",
            "63/63 [==============================] - 12s 180ms/step - loss: 0.7989 - accuracy: 0.9865 - val_loss: 2.5466 - val_accuracy: 0.9800\n",
            "Epoch 3/30\n",
            "63/63 [==============================] - 12s 181ms/step - loss: 0.4825 - accuracy: 0.9885 - val_loss: 2.5721 - val_accuracy: 0.9760\n",
            "Epoch 4/30\n",
            "63/63 [==============================] - 12s 184ms/step - loss: 0.4920 - accuracy: 0.9925 - val_loss: 2.3831 - val_accuracy: 0.9800\n",
            "Epoch 5/30\n",
            "63/63 [==============================] - 11s 179ms/step - loss: 0.2310 - accuracy: 0.9925 - val_loss: 2.4380 - val_accuracy: 0.9780\n",
            "Epoch 6/30\n",
            "63/63 [==============================] - 11s 178ms/step - loss: 0.1809 - accuracy: 0.9955 - val_loss: 2.3895 - val_accuracy: 0.9790\n",
            "Epoch 7/30\n",
            "63/63 [==============================] - 11s 179ms/step - loss: 0.1912 - accuracy: 0.9925 - val_loss: 2.2679 - val_accuracy: 0.9810\n",
            "Epoch 8/30\n",
            "63/63 [==============================] - 11s 178ms/step - loss: 0.2125 - accuracy: 0.9925 - val_loss: 2.3600 - val_accuracy: 0.9800\n",
            "Epoch 9/30\n",
            "63/63 [==============================] - 12s 182ms/step - loss: 0.1950 - accuracy: 0.9930 - val_loss: 2.2055 - val_accuracy: 0.9810\n",
            "Epoch 10/30\n",
            "63/63 [==============================] - 13s 204ms/step - loss: 0.1722 - accuracy: 0.9955 - val_loss: 2.1818 - val_accuracy: 0.9820\n",
            "Epoch 11/30\n",
            "63/63 [==============================] - 12s 183ms/step - loss: 0.1903 - accuracy: 0.9940 - val_loss: 2.1082 - val_accuracy: 0.9780\n",
            "Epoch 12/30\n",
            "63/63 [==============================] - 13s 209ms/step - loss: 0.1804 - accuracy: 0.9930 - val_loss: 1.9259 - val_accuracy: 0.9820\n",
            "Epoch 13/30\n",
            "63/63 [==============================] - 12s 181ms/step - loss: 0.1091 - accuracy: 0.9970 - val_loss: 1.8141 - val_accuracy: 0.9840\n",
            "Epoch 14/30\n",
            "63/63 [==============================] - 11s 173ms/step - loss: 0.2047 - accuracy: 0.9920 - val_loss: 1.9539 - val_accuracy: 0.9810\n",
            "Epoch 15/30\n",
            "63/63 [==============================] - 11s 173ms/step - loss: 0.1999 - accuracy: 0.9965 - val_loss: 2.2762 - val_accuracy: 0.9820\n",
            "Epoch 16/30\n",
            "63/63 [==============================] - 12s 179ms/step - loss: 0.1930 - accuracy: 0.9950 - val_loss: 1.9096 - val_accuracy: 0.9790\n",
            "Epoch 17/30\n",
            "63/63 [==============================] - 12s 185ms/step - loss: 0.1178 - accuracy: 0.9945 - val_loss: 1.8568 - val_accuracy: 0.9790\n",
            "Epoch 18/30\n",
            "63/63 [==============================] - 11s 176ms/step - loss: 0.0972 - accuracy: 0.9955 - val_loss: 2.0024 - val_accuracy: 0.9770\n",
            "Epoch 19/30\n",
            "63/63 [==============================] - 11s 175ms/step - loss: 0.0704 - accuracy: 0.9970 - val_loss: 1.9534 - val_accuracy: 0.9770\n",
            "Epoch 20/30\n",
            "63/63 [==============================] - 12s 180ms/step - loss: 0.1955 - accuracy: 0.9935 - val_loss: 1.7250 - val_accuracy: 0.9780\n",
            "Epoch 21/30\n",
            "63/63 [==============================] - 11s 174ms/step - loss: 0.0602 - accuracy: 0.9980 - val_loss: 1.8365 - val_accuracy: 0.9750\n",
            "Epoch 22/30\n",
            "63/63 [==============================] - 12s 180ms/step - loss: 0.1557 - accuracy: 0.9940 - val_loss: 1.9600 - val_accuracy: 0.9760\n",
            "Epoch 23/30\n",
            "63/63 [==============================] - 12s 182ms/step - loss: 0.1036 - accuracy: 0.9965 - val_loss: 2.0017 - val_accuracy: 0.9790\n",
            "Epoch 24/30\n",
            "63/63 [==============================] - 12s 179ms/step - loss: 0.1170 - accuracy: 0.9945 - val_loss: 2.1195 - val_accuracy: 0.9760\n",
            "Epoch 25/30\n",
            "63/63 [==============================] - 11s 176ms/step - loss: 0.1302 - accuracy: 0.9950 - val_loss: 2.1421 - val_accuracy: 0.9770\n",
            "Epoch 26/30\n",
            "63/63 [==============================] - 11s 177ms/step - loss: 0.1194 - accuracy: 0.9960 - val_loss: 2.1509 - val_accuracy: 0.9780\n",
            "Epoch 27/30\n",
            "63/63 [==============================] - 11s 176ms/step - loss: 0.1580 - accuracy: 0.9955 - val_loss: 2.0278 - val_accuracy: 0.9790\n",
            "Epoch 28/30\n",
            "63/63 [==============================] - 12s 191ms/step - loss: 0.1028 - accuracy: 0.9960 - val_loss: 1.6327 - val_accuracy: 0.9810\n",
            "Epoch 29/30\n",
            "63/63 [==============================] - 12s 181ms/step - loss: 0.1998 - accuracy: 0.9945 - val_loss: 1.9874 - val_accuracy: 0.9780\n",
            "Epoch 30/30\n",
            "63/63 [==============================] - 12s 184ms/step - loss: 0.0943 - accuracy: 0.9970 - val_loss: 1.8242 - val_accuracy: 0.9790\n"
          ]
        }
      ],
      "source": [
        "model.compile(loss=\"binary_crossentropy\",\n",
        "              optimizer=keras.optimizers.RMSprop(learning_rate=1e-5),\n",
        "              metrics=[\"accuracy\"])\n",
        "\n",
        "callbacks = [\n",
        "    keras.callbacks.ModelCheckpoint(\n",
        "        filepath=\"fine_tuning.keras\",\n",
        "        save_best_only=True,\n",
        "        monitor=\"val_loss\")\n",
        "]\n",
        "history = model.fit(\n",
        "    train_dataset,\n",
        "    epochs=30,\n",
        "    validation_data=validation_dataset,\n",
        "    callbacks=callbacks)"
      ]
    },
    {
      "cell_type": "code",
      "execution_count": null,
      "metadata": {
        "id": "0maBjgnZFHnj",
        "colab": {
          "base_uri": "https://localhost:8080/"
        },
        "outputId": "facce77e-5103-4b70-fc0b-cccd688ebe58"
      },
      "outputs": [
        {
          "output_type": "stream",
          "name": "stdout",
          "text": [
            "63/63 [==============================] - 7s 100ms/step - loss: 1.6845 - accuracy: 0.9775\n",
            "Test accuracy: 0.978\n"
          ]
        }
      ],
      "source": [
        "model = keras.models.load_model(\"fine_tuning.keras\")\n",
        "test_loss, test_acc = model.evaluate(test_dataset)\n",
        "print(f\"Test accuracy: {test_acc:.3f}\")"
      ]
    },
    {
      "cell_type": "markdown",
      "source": [
        "**The final test accuracy of the fine-tuned model is 97.8 % which is a 0.35 % improvement over the Part 1 model where the data was augmented, but the model was not fine-tuned**"
      ],
      "metadata": {
        "id": "eJfYaKyZsdWl"
      }
    },
    {
      "cell_type": "code",
      "source": [],
      "metadata": {
        "id": "UNZ3czOKsvPV"
      },
      "execution_count": null,
      "outputs": []
    }
  ]
}