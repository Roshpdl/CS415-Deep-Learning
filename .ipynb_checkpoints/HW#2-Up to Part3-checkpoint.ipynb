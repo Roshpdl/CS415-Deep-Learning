{
 "cells": [
  {
   "cell_type": "markdown",
   "id": "85583201",
   "metadata": {},
   "source": [
    "## Homework 2 - Roshan Poudel"
   ]
  },
  {
   "cell_type": "code",
   "execution_count": 2,
   "id": "58348d34",
   "metadata": {},
   "outputs": [],
   "source": [
    "from tensorflow.keras.datasets import mnist\n",
    "(train_images, train_labels), (test_images, test_labels) = mnist.load_data()"
   ]
  },
  {
   "cell_type": "code",
   "execution_count": 8,
   "id": "1fbf6fdf",
   "metadata": {},
   "outputs": [
    {
     "data": {
      "text/plain": [
       "(60000, 28, 28)"
      ]
     },
     "execution_count": 8,
     "metadata": {},
     "output_type": "execute_result"
    }
   ],
   "source": [
    "train_images.shape"
   ]
  },
  {
   "cell_type": "markdown",
   "id": "ff2dab22",
   "metadata": {},
   "source": [
    "> The shape is the tuple of integers that describe how many dimensions the tensor has along each axis<br>The output here means that train_images is a 3-D tensor with a collection of 60000, 28 by 28 matrices"
   ]
  },
  {
   "cell_type": "code",
   "execution_count": 9,
   "id": "ad8a0e50",
   "metadata": {},
   "outputs": [
    {
     "data": {
      "text/plain": [
       "3"
      ]
     },
     "execution_count": 9,
     "metadata": {},
     "output_type": "execute_result"
    }
   ],
   "source": [
    "len(train_images.shape)"
   ]
  },
  {
   "cell_type": "markdown",
   "id": "723f463c",
   "metadata": {},
   "source": [
    "> len(train_images.shape) equivalent to calling train_images.ndim below"
   ]
  },
  {
   "cell_type": "code",
   "execution_count": 10,
   "id": "a0528f59",
   "metadata": {},
   "outputs": [
    {
     "data": {
      "text/plain": [
       "3"
      ]
     },
     "execution_count": 10,
     "metadata": {},
     "output_type": "execute_result"
    }
   ],
   "source": [
    "train_images.ndim"
   ]
  },
  {
   "cell_type": "code",
   "execution_count": 4,
   "id": "b4d7498f",
   "metadata": {},
   "outputs": [
    {
     "data": {
      "text/plain": [
       "(90, 28, 28)"
      ]
     },
     "execution_count": 4,
     "metadata": {},
     "output_type": "execute_result"
    }
   ],
   "source": [
    "my_slice = train_images[10:100]\n",
    "my_slice.shape"
   ]
  },
  {
   "cell_type": "code",
   "execution_count": 5,
   "id": "562734a6",
   "metadata": {},
   "outputs": [
    {
     "data": {
      "text/plain": [
       "(90, 28, 28)"
      ]
     },
     "execution_count": 5,
     "metadata": {},
     "output_type": "execute_result"
    }
   ],
   "source": [
    "my_slice = train_images[10:100, :, :]\n",
    "my_slice.shape"
   ]
  },
  {
   "cell_type": "code",
   "execution_count": 6,
   "id": "5f7c847d",
   "metadata": {},
   "outputs": [
    {
     "data": {
      "text/plain": [
       "(90, 28, 28)"
      ]
     },
     "execution_count": 6,
     "metadata": {},
     "output_type": "execute_result"
    }
   ],
   "source": [
    "my_slice = train_images[10:100, 0:28, 0:28]\n",
    "my_slice.shape"
   ]
  },
  {
   "cell_type": "markdown",
   "id": "ccae94b5",
   "metadata": {},
   "source": [
    "**In order to select 14 x 14 pixels in the bottom-right corner of *all* images, we would do the following:**"
   ]
  },
  {
   "cell_type": "code",
   "execution_count": 7,
   "id": "c2cd6056",
   "metadata": {},
   "outputs": [
    {
     "data": {
      "text/plain": [
       "(60000, 14, 14)"
      ]
     },
     "execution_count": 7,
     "metadata": {},
     "output_type": "execute_result"
    }
   ],
   "source": [
    "my_slice = train_images[:, 14:, 14:]\n",
    "my_slice.shape"
   ]
  },
  {
   "cell_type": "code",
   "execution_count": 11,
   "id": "c83206f2",
   "metadata": {},
   "outputs": [],
   "source": [
    "batch = train_images[:128]"
   ]
  },
  {
   "cell_type": "markdown",
   "id": "a81963bf",
   "metadata": {},
   "source": [
    "> Up here is the First batch of training data"
   ]
  },
  {
   "cell_type": "code",
   "execution_count": 12,
   "id": "69f529a0",
   "metadata": {},
   "outputs": [],
   "source": [
    "batch = train_images[128:256]"
   ]
  },
  {
   "cell_type": "markdown",
   "id": "0a29cc1d",
   "metadata": {},
   "source": [
    "> Second batch of training data <br>\n",
    "\n",
    "> **nth batch would be:**<br>\n",
    ">```py\n",
    "n = 3\n",
    "batch = train_images[128 * n: 128 * (n+1)]\n",
    "```"
   ]
  },
  {
   "cell_type": "markdown",
   "id": "ef59179b",
   "metadata": {},
   "source": [
    "### Naive python implementation of element-wise relu operation:"
   ]
  },
  {
   "cell_type": "code",
   "execution_count": 15,
   "id": "315712c6",
   "metadata": {},
   "outputs": [],
   "source": [
    "def naive_relu(x):\n",
    "    assert len(x.shape) == 2 #making sure the array is 2D\n",
    "    x = x.copy() # we don't want to make changes to original array\n",
    "    for i in range(x.shape[0]): #x.shape[0] gives the length of the whole array cuz we need to iterate through all elements\n",
    "        for j in range(x.shape[1]): #x.shape[1] gives the length of the individual arrays in the array as we need to loop through every col\n",
    "            x[i, j] = max(x[i,j], 0) #relu operation: relu(x) is max(x, 0)\n",
    "    return x"
   ]
  },
  {
   "cell_type": "code",
   "execution_count": 17,
   "id": "3194e26c",
   "metadata": {},
   "outputs": [],
   "source": [
    "def naive_add(x, y):\n",
    "    assert len(x.shape) == 2\n",
    "    assert x.shape == y.shape\n",
    "    x = x.copy()\n",
    "    for i in range(x.shape[0]):\n",
    "        for j in range(x.shape[1]):\n",
    "            x[i,j] += y[i,j] #adding every element in y to the corresponding element in x\n",
    "    return x"
   ]
  },
  {
   "cell_type": "markdown",
   "id": "45dc1dc4",
   "metadata": {},
   "source": [
    "> In NumPy, we can do the following element-wise operation and it will be blazing fast:\n",
    "```py\n",
    "import numpy as np\n",
    "z = x + y #Element-wise addition\n",
    "z = np.maximum(z, 0.) #Element-wise relu\n",
    "```\n",
    "**Let's try**"
   ]
  },
  {
   "cell_type": "code",
   "execution_count": 22,
   "id": "5bcea1b3",
   "metadata": {},
   "outputs": [
    {
     "name": "stdout",
     "output_type": "stream",
     "text": [
      "Took:0.01 s\n"
     ]
    }
   ],
   "source": [
    "import time\n",
    "\n",
    "x = np.random.random((20, 100))\n",
    "y = np.random.random((20,100))\n",
    "\n",
    "t0 = time.time()\n",
    "for _ in range(1000):\n",
    "    z = x + y\n",
    "    z = np.maximum(z, 0.)\n",
    "print(\"Took:{0:.2f} s\". format(time.time() - t0))"
   ]
  },
  {
   "cell_type": "markdown",
   "id": "aa7fb72c",
   "metadata": {},
   "source": [
    "> Using numpy took 0.01. Let's try wih the naive version"
   ]
  },
  {
   "cell_type": "code",
   "execution_count": 24,
   "id": "58aa80d5",
   "metadata": {},
   "outputs": [
    {
     "name": "stdout",
     "output_type": "stream",
     "text": [
      "Took:1.80 s\n"
     ]
    }
   ],
   "source": [
    "t0 = time.time()\n",
    "for _ in range(1000):\n",
    "    z = naive_add(x, y)\n",
    "    z = naive_relu(z)\n",
    "print(\"Took:{0:.2f} s\". format(time.time() - t0))"
   ]
  },
  {
   "cell_type": "code",
   "execution_count": null,
   "id": "23e3a3bd",
   "metadata": {},
   "outputs": [],
   "source": []
  }
 ],
 "metadata": {
  "kernelspec": {
   "display_name": "Python 3 (ipykernel)",
   "language": "python",
   "name": "python3"
  },
  "language_info": {
   "codemirror_mode": {
    "name": "ipython",
    "version": 3
   },
   "file_extension": ".py",
   "mimetype": "text/x-python",
   "name": "python",
   "nbconvert_exporter": "python",
   "pygments_lexer": "ipython3",
   "version": "3.10.9"
  }
 },
 "nbformat": 4,
 "nbformat_minor": 5
}
