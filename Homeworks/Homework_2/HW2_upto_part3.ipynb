{
 "cells": [
  {
   "cell_type": "markdown",
   "id": "59452d06",
   "metadata": {},
   "source": [
    "## Homework 2 (Part 1, 2, and 3) - Roshan Poudel"
   ]
  },
  {
   "cell_type": "code",
   "execution_count": 1,
   "id": "42f4b543",
   "metadata": {},
   "outputs": [
    {
     "name": "stderr",
     "output_type": "stream",
     "text": [
      "2023-02-10 00:01:33.879662: I tensorflow/core/platform/cpu_feature_guard.cc:193] This TensorFlow binary is optimized with oneAPI Deep Neural Network Library (oneDNN) to use the following CPU instructions in performance-critical operations:  SSE4.1 SSE4.2\n",
      "To enable them in other operations, rebuild TensorFlow with the appropriate compiler flags.\n"
     ]
    }
   ],
   "source": [
    "from tensorflow.keras.datasets import mnist\n",
    "(train_images, train_labels), (test_images, test_labels) = mnist.load_data()"
   ]
  },
  {
   "cell_type": "code",
   "execution_count": 2,
   "id": "62ee3d20",
   "metadata": {},
   "outputs": [
    {
     "data": {
      "text/plain": [
       "(60000, 28, 28)"
      ]
     },
     "execution_count": 2,
     "metadata": {},
     "output_type": "execute_result"
    }
   ],
   "source": [
    "train_images.shape"
   ]
  },
  {
   "cell_type": "markdown",
   "id": "d855618f",
   "metadata": {},
   "source": [
    "> The shape is the tuple of integers that describe how many dimensions the tensor has along each axis<br>The output here means that train_images is a 3-D tensor with a collection of 60000, 28 by 28 matrices"
   ]
  },
  {
   "cell_type": "code",
   "execution_count": 3,
   "id": "4dbb624c",
   "metadata": {},
   "outputs": [
    {
     "data": {
      "text/plain": [
       "3"
      ]
     },
     "execution_count": 3,
     "metadata": {},
     "output_type": "execute_result"
    }
   ],
   "source": [
    "len(train_images.shape)"
   ]
  },
  {
   "cell_type": "markdown",
   "id": "805d895f",
   "metadata": {},
   "source": [
    "> len(train_images.shape) equivalent to calling train_images.ndim below"
   ]
  },
  {
   "cell_type": "code",
   "execution_count": 4,
   "id": "fd68c77c",
   "metadata": {},
   "outputs": [
    {
     "data": {
      "text/plain": [
       "3"
      ]
     },
     "execution_count": 4,
     "metadata": {},
     "output_type": "execute_result"
    }
   ],
   "source": [
    "train_images.ndim"
   ]
  },
  {
   "cell_type": "code",
   "execution_count": 5,
   "id": "dea61922",
   "metadata": {},
   "outputs": [
    {
     "data": {
      "text/plain": [
       "(90, 28, 28)"
      ]
     },
     "execution_count": 5,
     "metadata": {},
     "output_type": "execute_result"
    }
   ],
   "source": [
    "my_slice = train_images[10:100]\n",
    "my_slice.shape"
   ]
  },
  {
   "cell_type": "code",
   "execution_count": 6,
   "id": "3dcdad6d",
   "metadata": {},
   "outputs": [
    {
     "data": {
      "text/plain": [
       "(90, 28, 28)"
      ]
     },
     "execution_count": 6,
     "metadata": {},
     "output_type": "execute_result"
    }
   ],
   "source": [
    "my_slice = train_images[10:100, :, :]\n",
    "my_slice.shape"
   ]
  },
  {
   "cell_type": "code",
   "execution_count": 7,
   "id": "5561aa5f",
   "metadata": {},
   "outputs": [
    {
     "data": {
      "text/plain": [
       "(90, 28, 28)"
      ]
     },
     "execution_count": 7,
     "metadata": {},
     "output_type": "execute_result"
    }
   ],
   "source": [
    "my_slice = train_images[10:100, 0:28, 0:28]\n",
    "my_slice.shape"
   ]
  },
  {
   "cell_type": "markdown",
   "id": "a2d9b79f",
   "metadata": {},
   "source": [
    "**In order to select 14 x 14 pixels in the bottom-right corner of *all* images, we would do the following:**"
   ]
  },
  {
   "cell_type": "code",
   "execution_count": 8,
   "id": "c3e14ef9",
   "metadata": {},
   "outputs": [
    {
     "data": {
      "text/plain": [
       "(60000, 14, 14)"
      ]
     },
     "execution_count": 8,
     "metadata": {},
     "output_type": "execute_result"
    }
   ],
   "source": [
    "my_slice = train_images[:, 14:, 14:]\n",
    "my_slice.shape"
   ]
  },
  {
   "cell_type": "code",
   "execution_count": 9,
   "id": "b6657caa",
   "metadata": {},
   "outputs": [],
   "source": [
    "batch = train_images[:128]"
   ]
  },
  {
   "cell_type": "markdown",
   "id": "e1d4e8ac",
   "metadata": {},
   "source": [
    "> Up here is the First batch of training data"
   ]
  },
  {
   "cell_type": "code",
   "execution_count": 10,
   "id": "256f0dcc",
   "metadata": {},
   "outputs": [],
   "source": [
    "batch = train_images[128:256]"
   ]
  },
  {
   "cell_type": "markdown",
   "id": "f1cccf6f",
   "metadata": {},
   "source": [
    "> Second batch of training data <br>\n",
    "\n",
    "> **nth batch would be:**<br>\n",
    ">```py\n",
    "n = 3\n",
    "batch = train_images[128 * n: 128 * (n+1)]\n",
    "```"
   ]
  },
  {
   "cell_type": "markdown",
   "id": "05b5fa7d",
   "metadata": {},
   "source": [
    "### Naive python implementation of element-wise relu operation:"
   ]
  },
  {
   "cell_type": "code",
   "execution_count": 11,
   "id": "11e7c2c0",
   "metadata": {},
   "outputs": [],
   "source": [
    "def naive_relu(x):\n",
    "    assert len(x.shape) == 2 #making sure the array is 2D\n",
    "    x = x.copy() # we don't want to make changes to original array\n",
    "    for i in range(x.shape[0]): #x.shape[0] gives the length of the whole array cuz we need to iterate through all elements\n",
    "        for j in range(x.shape[1]): #x.shape[1] gives the length of the individual arrays in the array as we need to loop through every col\n",
    "            x[i, j] = max(x[i,j], 0) #relu operation: relu(x) is max(x, 0)\n",
    "    return x"
   ]
  },
  {
   "cell_type": "code",
   "execution_count": 12,
   "id": "8aebbac8",
   "metadata": {},
   "outputs": [],
   "source": [
    "def naive_add(x, y):\n",
    "    assert len(x.shape) == 2\n",
    "    assert x.shape == y.shape\n",
    "    x = x.copy()\n",
    "    for i in range(x.shape[0]):\n",
    "        for j in range(x.shape[1]):\n",
    "            x[i,j] += y[i,j] #adding every element in y to the corresponding element in x\n",
    "    return x"
   ]
  },
  {
   "cell_type": "markdown",
   "id": "15eb07a1",
   "metadata": {},
   "source": [
    "> In NumPy, we can do the following element-wise operation and it will be blazing fast:\n",
    "```py\n",
    "import numpy as np\n",
    "z = x + y #Element-wise addition\n",
    "z = np.maximum(z, 0.) #Element-wise relu\n",
    "```\n",
    "**Let's try**"
   ]
  },
  {
   "cell_type": "code",
   "execution_count": 13,
   "id": "7bd3b235",
   "metadata": {},
   "outputs": [
    {
     "name": "stdout",
     "output_type": "stream",
     "text": [
      "Took:0.01 s\n"
     ]
    }
   ],
   "source": [
    "import time\n",
    "import numpy as np\n",
    "\n",
    "x = np.random.random((20, 100))\n",
    "y = np.random.random((20,100))\n",
    "\n",
    "t0 = time.time()\n",
    "for _ in range(1000):\n",
    "    z = x + y\n",
    "    z = np.maximum(z, 0.)\n",
    "print(\"Took:{0:.2f} s\". format(time.time() - t0))"
   ]
  },
  {
   "cell_type": "markdown",
   "id": "e3858336",
   "metadata": {},
   "source": [
    "> Using numpy took 0.01. Let's try with the naive version"
   ]
  },
  {
   "cell_type": "code",
   "execution_count": 14,
   "id": "6263a345",
   "metadata": {},
   "outputs": [
    {
     "name": "stdout",
     "output_type": "stream",
     "text": [
      "Took:1.89 s\n"
     ]
    }
   ],
   "source": [
    "t0 = time.time()\n",
    "for _ in range(1000):\n",
    "    z = naive_add(x, y)\n",
    "    z = naive_relu(z)\n",
    "print(\"Took:{0:.2f} s\". format(time.time() - t0))"
   ]
  },
  {
   "cell_type": "markdown",
   "id": "0ad8a0ed",
   "metadata": {},
   "source": [
    "> It took 1.80s with the naive approach. That means that the numpy implementation is about 180 times faster than the naive implementation"
   ]
  },
  {
   "cell_type": "markdown",
   "id": "0f1fd8bd",
   "metadata": {},
   "source": [
    "### The following example shows what broadcasting is"
   ]
  },
  {
   "cell_type": "code",
   "execution_count": 15,
   "id": "f83f6618",
   "metadata": {},
   "outputs": [
    {
     "name": "stdout",
     "output_type": "stream",
     "text": [
      "X:\n",
      " [[0.75979652 0.39508733 0.92433174 0.15084463]\n",
      " [0.14185885 0.17025137 0.06997549 0.48750564]\n",
      " [0.72520224 0.66928034 0.92039891 0.57594182]] \n",
      "\n",
      "y:\n",
      " [0.6211849  0.17038381 0.91008597 0.21820181] \n",
      "\n",
      "y with shape (1,4):\n",
      " [[0.6211849  0.17038381 0.91008597 0.21820181]] \n",
      "\n",
      "Y with shape same as X:\n",
      " [[0.6211849  0.17038381 0.91008597 0.21820181]\n",
      " [0.6211849  0.17038381 0.91008597 0.21820181]\n",
      " [0.6211849  0.17038381 0.91008597 0.21820181]]\n"
     ]
    }
   ],
   "source": [
    "import numpy as np\n",
    "#for the sake of simplicity, I used a tensor of shape (3, 4) instead of the one in the book (32, 10)\n",
    "X = np.random.random((3,4))\n",
    "print(\"X:\\n\", X, \"\\n\")\n",
    "y = np.random.random((4,))\n",
    "print(\"y:\\n\", y, \"\\n\")\n",
    "y = np.expand_dims(y, axis=0)\n",
    "print(\"y with shape (1,4):\\n\", y, \"\\n\")\n",
    "Y = np.concatenate([y] * 3, axis=0)\n",
    "print(\"Y with shape same as X:\\n\", Y)\n",
    "#After this we can simply add X and Y as they have the same shape"
   ]
  },
  {
   "cell_type": "code",
   "execution_count": 16,
   "id": "37e15ab9",
   "metadata": {},
   "outputs": [],
   "source": [
    "def naive_add_matrix_and_vector(x, y):\n",
    "    assert len(x.shape) == 2\n",
    "    assert len(y.shape) == 1\n",
    "    assert x.shape[1] == y.shape[0]\n",
    "    x = x.copy()\n",
    "    for i in range(x.shape[0]):\n",
    "        for j in range(x.shape[1]):\n",
    "            x[i, j] += y[j]\n",
    "    return x"
   ]
  },
  {
   "cell_type": "markdown",
   "id": "118fd5e9",
   "metadata": {},
   "source": [
    "## Tensor Product\n",
    "\n",
    "[]_mxn * []nxp = []_mxp <br>\n",
    "\n",
    "**For two matrices to be multiplicable, the number of columns in the first matrix must equal to the number of rows in the second matrix**\n",
    "\n",
    "Eg: a 2x3 matrix can be multiplied with a 3*4 matrix. It will result in a matrix of size 2X4."
   ]
  },
  {
   "cell_type": "code",
   "execution_count": 17,
   "id": "82cf8df2",
   "metadata": {},
   "outputs": [],
   "source": [
    "def naive_vector_dot(x, y):\n",
    "    assert len(x.shape) == 1\n",
    "    assert len(y.shape) == 1\n",
    "    assert x.shape[0] == y.shape[0]\n",
    "    z = 0\n",
    "    for i in range(x.shape[0]):\n",
    "        z += x[i] * y[i]\n",
    "    return z"
   ]
  },
  {
   "cell_type": "code",
   "execution_count": 18,
   "id": "8995fd5c",
   "metadata": {},
   "outputs": [],
   "source": [
    "def naive_matrix_vector_dot(x, y):\n",
    "    z = np.zeros(x.shape[0])\n",
    "    for i in range(x.shape[0]):\n",
    "        z[i] = naive_vector_dot(x[i, :], y)\n",
    "    return z"
   ]
  },
  {
   "cell_type": "markdown",
   "id": "e771e166",
   "metadata": {},
   "source": [
    "> Same code can be implemented as\n",
    ">>```py\n",
    "def naive_matrix_vector_dot(x, y):\n",
    "    assert len(x.shape) == 2\n",
    "    assert len(y.shape) == 1\n",
    "    assert x.shape[1] == y.shape[0]\n",
    "    z = np.zeros(x.shape[0])\n",
    "    for i in range(x.shape[0]):\n",
    "        for j in range(x.shape[1]):\n",
    "            z[i] += x[i, j] * y[j]\n",
    "    return z\n",
    "```\n"
   ]
  },
  {
   "cell_type": "code",
   "execution_count": 19,
   "id": "3c4cc004",
   "metadata": {},
   "outputs": [],
   "source": [
    "# For the computation of the dot product of matrices, we can use the following implementation\n",
    "def naive_matrix_dot(x, y):\n",
    "    assert len(x.shape) == 2\n",
    "    assert len(y.shape) == 2\n",
    "    assert x.shape[1] == y.shape[0]\n",
    "    z = np.zeros((x.shape[0], y.shape[1]))\n",
    "    for i in range(x.shape[0]):\n",
    "        for j in range(y.shape[1]): \n",
    "            row_x = x[i, :]\n",
    "            column_y = y[:, j]\n",
    "            z[i, j] = naive_vector_dot(row_x, column_y)\n",
    "    return z"
   ]
  },
  {
   "cell_type": "markdown",
   "id": "9174af18",
   "metadata": {},
   "source": [
    "**Testing the time taken for the computation of the dot product using naive vs using numpy library**"
   ]
  },
  {
   "cell_type": "code",
   "execution_count": 25,
   "id": "7e39104e",
   "metadata": {},
   "outputs": [
    {
     "name": "stdout",
     "output_type": "stream",
     "text": [
      "<class 'numpy.ndarray'>\n",
      "Took:0.02 s with numpy\n",
      "Took:12.08 s with naive_matrix_product\n"
     ]
    }
   ],
   "source": [
    "Mat_1 = np.random.random((20, 100))\n",
    "Mat_2 = np.random.random((100,30))\n",
    "print(type(Mat_1))\n",
    "\n",
    "#USING NUMPY\n",
    "t_initial = time.time()\n",
    "for _ in range(500):\n",
    "    dot_product = np.dot(Mat_1, Mat_2)\n",
    "print(\"Took:{0:.2f} s with numpy\". format(time.time() - t_initial))\n",
    "\n",
    "#Using our naive approach for dot product computation\n",
    "t_initial = time.time()\n",
    "for _ in range(500):\n",
    "    dot_product = naive_matrix_dot(Mat_1, Mat_2)\n",
    "print(\"Took:{0:.2f} s with naive_matrix_product\". format(time.time() - t_initial))"
   ]
  },
  {
   "cell_type": "markdown",
   "id": "fc33b811",
   "metadata": {},
   "source": [
    ">*Looks like our naive guy is significantly slower than blazing fast BLAS implemented NumPy function .dot()*"
   ]
  },
  {
   "cell_type": "markdown",
   "id": "fdd074f5",
   "metadata": {},
   "source": [
    "## Tensor Reshaping\n",
    "\n",
    ">Reshaping a tensor means rearranging its rows and columns to match a target shape. Naturally, the reshaped tensor has the same total number of coefficients as the initial tensor."
   ]
  },
  {
   "cell_type": "code",
   "execution_count": 21,
   "id": "8116fb5f",
   "metadata": {},
   "outputs": [
    {
     "data": {
      "text/plain": [
       "(3, 2)"
      ]
     },
     "execution_count": 21,
     "metadata": {},
     "output_type": "execute_result"
    }
   ],
   "source": [
    "x = np.array([[0., 1.],\n",
    "             [2.,3.],\n",
    "             [4.,5.]])\n",
    "x.shape"
   ]
  },
  {
   "cell_type": "code",
   "execution_count": 22,
   "id": "97ea17f1",
   "metadata": {},
   "outputs": [
    {
     "data": {
      "text/plain": [
       "array([[0.],\n",
       "       [1.],\n",
       "       [2.],\n",
       "       [3.],\n",
       "       [4.],\n",
       "       [5.]])"
      ]
     },
     "execution_count": 22,
     "metadata": {},
     "output_type": "execute_result"
    }
   ],
   "source": [
    "x = x.reshape((6,1))\n",
    "x"
   ]
  },
  {
   "cell_type": "code",
   "execution_count": 23,
   "id": "bf3fb691",
   "metadata": {},
   "outputs": [
    {
     "data": {
      "text/plain": [
       "array([[0., 1., 2.],\n",
       "       [3., 4., 5.]])"
      ]
     },
     "execution_count": 23,
     "metadata": {},
     "output_type": "execute_result"
    }
   ],
   "source": [
    "x = x.reshape((2,3))\n",
    "x"
   ]
  },
  {
   "cell_type": "markdown",
   "id": "8975e46d",
   "metadata": {},
   "source": [
    "> **Transpose of a m X n matrix simply means that the rows and columns are exchanged to form the same matrix as n X m dimensions.** \n",
    "Here is an example:"
   ]
  },
  {
   "cell_type": "code",
   "execution_count": 24,
   "id": "360bff22",
   "metadata": {},
   "outputs": [
    {
     "data": {
      "text/plain": [
       "(20, 300)"
      ]
     },
     "execution_count": 24,
     "metadata": {},
     "output_type": "execute_result"
    }
   ],
   "source": [
    "x = np.zeros((300, 20)) #creating an all zeros matrix of shape(300, 20)\n",
    "x = np.transpose(x)\n",
    "x.shape"
   ]
  }
 ],
 "metadata": {
  "kernelspec": {
   "display_name": "Python 3 (ipykernel)",
   "language": "python",
   "name": "python3"
  },
  "language_info": {
   "codemirror_mode": {
    "name": "ipython",
    "version": 3
   },
   "file_extension": ".py",
   "mimetype": "text/x-python",
   "name": "python",
   "nbconvert_exporter": "python",
   "pygments_lexer": "ipython3",
   "version": "3.10.9"
  }
 },
 "nbformat": 4,
 "nbformat_minor": 5
}
